{
 "cells": [
  {
   "cell_type": "code",
   "execution_count": 1,
   "id": "2a86c77a-4e8f-4078-b749-cd4c7453f1ca",
   "metadata": {},
   "outputs": [
    {
     "name": "stderr",
     "output_type": "stream",
     "text": [
      "/home/th/miniconda3/envs/tf/lib/python3.9/site-packages/sklearn/base.py:493: FutureWarning: `BaseEstimator._check_feature_names` is deprecated in 1.6 and will be removed in 1.7. Use `sklearn.utils.validation._check_feature_names` instead.\n",
      "  warnings.warn(\n",
      "/home/th/miniconda3/envs/tf/lib/python3.9/site-packages/sklearn/base.py:484: FutureWarning: `BaseEstimator._check_n_features` is deprecated in 1.6 and will be removed in 1.7. Use `sklearn.utils.validation._check_n_features` instead.\n",
      "  warnings.warn(\n"
     ]
    },
    {
     "name": "stdout",
     "output_type": "stream",
     "text": [
      "Đã chuẩn hóa và lưu thành công vào thư mục scaled_output_parquet\n"
     ]
    },
    {
     "ename": "AttributeError",
     "evalue": "'DataFrame' object has no attribute 'compute'",
     "output_type": "error",
     "traceback": [
      "\u001b[0;31m---------------------------------------------------------------------------\u001b[0m",
      "\u001b[0;31mAttributeError\u001b[0m                            Traceback (most recent call last)",
      "\u001b[0;32m/tmp/ipykernel_1248145/4111650992.py\u001b[0m in \u001b[0;36m?\u001b[0;34m()\u001b[0m\n\u001b[0;32m---> 49\u001b[0;31m \u001b[0;32mimport\u001b[0m \u001b[0mdask\u001b[0m\u001b[0;34m.\u001b[0m\u001b[0mdataframe\u001b[0m \u001b[0;32mas\u001b[0m \u001b[0mdd\u001b[0m\u001b[0;34m\u001b[0m\u001b[0;34m\u001b[0m\u001b[0m\n\u001b[0m\u001b[1;32m     50\u001b[0m \u001b[0;32mimport\u001b[0m \u001b[0mdask\u001b[0m\u001b[0;34m.\u001b[0m\u001b[0marray\u001b[0m \u001b[0;32mas\u001b[0m \u001b[0mda\u001b[0m\u001b[0;34m\u001b[0m\u001b[0;34m\u001b[0m\u001b[0m\n\u001b[1;32m     51\u001b[0m \u001b[0;32mfrom\u001b[0m \u001b[0mdask_ml\u001b[0m\u001b[0;34m.\u001b[0m\u001b[0mpreprocessing\u001b[0m \u001b[0;32mimport\u001b[0m \u001b[0mStandardScaler\u001b[0m\u001b[0;34m\u001b[0m\u001b[0;34m\u001b[0m\u001b[0m\n\u001b[1;32m     52\u001b[0m \u001b[0;32mimport\u001b[0m \u001b[0mpandas\u001b[0m \u001b[0;32mas\u001b[0m \u001b[0mpd\u001b[0m\u001b[0;34m\u001b[0m\u001b[0;34m\u001b[0m\u001b[0m\n",
      "\u001b[0;32m~/miniconda3/envs/tf/lib/python3.9/site-packages/pandas/core/generic.py\u001b[0m in \u001b[0;36m?\u001b[0;34m(self, name)\u001b[0m\n\u001b[1;32m   6295\u001b[0m             \u001b[0;32mand\u001b[0m \u001b[0mname\u001b[0m \u001b[0;32mnot\u001b[0m \u001b[0;32min\u001b[0m \u001b[0mself\u001b[0m\u001b[0;34m.\u001b[0m\u001b[0m_accessors\u001b[0m\u001b[0;34m\u001b[0m\u001b[0;34m\u001b[0m\u001b[0m\n\u001b[1;32m   6296\u001b[0m             \u001b[0;32mand\u001b[0m \u001b[0mself\u001b[0m\u001b[0;34m.\u001b[0m\u001b[0m_info_axis\u001b[0m\u001b[0;34m.\u001b[0m\u001b[0m_can_hold_identifiers_and_holds_name\u001b[0m\u001b[0;34m(\u001b[0m\u001b[0mname\u001b[0m\u001b[0;34m)\u001b[0m\u001b[0;34m\u001b[0m\u001b[0;34m\u001b[0m\u001b[0m\n\u001b[1;32m   6297\u001b[0m         ):\n\u001b[1;32m   6298\u001b[0m             \u001b[0;32mreturn\u001b[0m \u001b[0mself\u001b[0m\u001b[0;34m[\u001b[0m\u001b[0mname\u001b[0m\u001b[0;34m]\u001b[0m\u001b[0;34m\u001b[0m\u001b[0;34m\u001b[0m\u001b[0m\n\u001b[0;32m-> 6299\u001b[0;31m         \u001b[0;32mreturn\u001b[0m \u001b[0mobject\u001b[0m\u001b[0;34m.\u001b[0m\u001b[0m__getattribute__\u001b[0m\u001b[0;34m(\u001b[0m\u001b[0mself\u001b[0m\u001b[0;34m,\u001b[0m \u001b[0mname\u001b[0m\u001b[0;34m)\u001b[0m\u001b[0;34m\u001b[0m\u001b[0;34m\u001b[0m\u001b[0m\n\u001b[0m",
      "\u001b[0;31mAttributeError\u001b[0m: 'DataFrame' object has no attribute 'compute'"
     ]
    }
   ],
   "source": [
    "import dask.dataframe as dd\n",
    "import dask.array as da\n",
    "from dask_ml.preprocessing import StandardScaler\n",
    "import pandas as pd\n",
    "import numpy as np\n",
    "import os\n",
    "import shutil\n",
    "\n",
    "# Đường dẫn thư mục Parquet đầu vào\n",
    "input_dir = \"shuffled_remapping\"  # Thư mục chứa các file Parquet đã tạo trước đó\n",
    "\n",
    "# Đọc dữ liệu từ thư mục Parquet bằng Dask\n",
    "df = dd.read_parquet(input_dir)\n",
    "\n",
    "# Tách cột đặc trưng (features) và cột nhãn (label)\n",
    "X = df.drop(columns=['label'])\n",
    "y = df['label']\n",
    "\n",
    "# Khởi tạo StandardScaler từ dask_ml\n",
    "scaler = StandardScaler()\n",
    "\n",
    "# Fit scaler trên dữ liệu (tính mean và std trên các phân vùng)\n",
    "scaler.fit(X)\n",
    "\n",
    "# Transform dữ liệu (chuẩn hóa các đặc trưng)\n",
    "X_scaled = scaler.transform(X)\n",
    "\n",
    "# Kết hợp lại cột đặc trưng đã chuẩn hóa với cột nhãn\n",
    "scaled_df = dd.concat([X_scaled, y], axis=1)\n",
    "\n",
    "# Đường dẫn thư mục đầu ra cho các file Parquet\n",
    "output_dir = \"scaled_output_parquet\"\n",
    "\n",
    "# Xóa thư mục đầu ra nếu đã tồn tại\n",
    "if os.path.exists(output_dir):\n",
    "    shutil.rmtree(output_dir)\n",
    "\n",
    "# Lưu kết quả thành nhiều file Parquet trong một thư mục\n",
    "scaled_df.to_parquet(\n",
    "    output_dir,\n",
    "    engine='pyarrow',\n",
    "    write_index=False,\n",
    "    partition_on=None  # Mỗi file đại diện cho một phân vùng\n",
    ")\n",
    "\n",
    "print(f\"Đã chuẩn hóa và lưu thành công vào thư mục {output_dir}\")\n",
    "\n",
    "# Kiểm tra số lượng mẫu (tùy chọn, đọc một phần nhỏ từ thư mục Parquet)\n",
    "df_check = dd.read_parquet(output_dir).head(1000)  # Đọc 1000 dòng đầu\n",
    "print(\"Đầu ra mẫu:\", df_check.head())\n",
    "print(\"Số lượng mẫu trong thư mục Parquet (ước lượng):\", len(dd.read_parquet(output_dir, columns=['label']).compute()))"
   ]
  },
  {
   "cell_type": "code",
   "execution_count": 2,
   "id": "9ec3ed47-ce52-43d4-8de7-0e8b26f62682",
   "metadata": {},
   "outputs": [
    {
     "name": "stdout",
     "output_type": "stream",
     "text": [
      "Đầu ra mẫu:    flow_duration  Header_Length  Protocol Type  Duration       Rate  \\\n",
      "0      -0.043351      -0.378067       1.944402 -0.340584  19.321910   \n",
      "1      -0.043351      -0.378067       1.914890 -0.361896  -0.082432   \n",
      "2      -0.043351      -0.378067       1.915518 -0.340584  -0.082622   \n",
      "3       0.010219       4.324545      -0.630113  0.655076  -0.081388   \n",
      "4      -0.041905       0.750059       0.060611 -0.340584  -0.054519   \n",
      "\n",
      "       Srate     Drate  fin_flag_number  syn_flag_number  rst_flag_number  \\\n",
      "0  19.321910 -0.001064        -0.243225        -0.354776        -0.255542   \n",
      "1  -0.082432 -0.001064        -0.243225        -0.354776        -0.255542   \n",
      "2  -0.082622 -0.001064        -0.243225        -0.354776        -0.255542   \n",
      "3  -0.081388 -0.001064        -0.243225        -0.354776        -0.255542   \n",
      "4  -0.054519 -0.001064        -0.243225        -0.354776        -0.255542   \n",
      "\n",
      "   ...       Std  Tot size       IAT    Number  Magnitue    Radius  \\\n",
      "0  ... -0.352662  0.591207  0.008641  0.001633  0.897277 -0.352233   \n",
      "1  ... -0.310519  0.578679  0.008324  0.001633  0.889700 -0.310010   \n",
      "2  ... -0.352589  0.591160  0.008215  0.001633  0.897265 -0.352159   \n",
      "3  ...  3.746721  2.421408  2.114720  2.116477  1.199474  3.753553   \n",
      "4  ... -0.352662  0.501722  0.010947  0.001633  0.816628 -0.352233   \n",
      "\n",
      "   Covariance  Variance    Weight  label  \n",
      "0   -0.169866 -0.665429  0.001606      2  \n",
      "1   -0.167468 -0.396749  0.001606      2  \n",
      "2   -0.169866 -0.531089  0.001606      2  \n",
      "3    2.114217  2.021376  2.117993      3  \n",
      "4   -0.169866 -0.665429  0.001606      2  \n",
      "\n",
      "[5 rows x 47 columns]\n",
      "Số lượng mẫu trong thư mục Parquet (ước lượng): 8536019\n"
     ]
    }
   ],
   "source": [
    "df_check = dd.read_parquet(output_dir).head(1000)  # Đọc 1000 dòng đầu\n",
    "print(\"Đầu ra mẫu:\", df_check.head())\n",
    "print(\"Số lượng mẫu trong thư mục Parquet (ước lượng):\", len(dd.read_parquet(output_dir, columns=['label']).compute()))"
   ]
  },
  {
   "cell_type": "code",
   "execution_count": null,
   "id": "ec12e49d-b1db-4a76-8846-d8625b3b099c",
   "metadata": {},
   "outputs": [],
   "source": []
  }
 ],
 "metadata": {
  "kernelspec": {
   "display_name": "Python 3 (ipykernel)",
   "language": "python",
   "name": "python3"
  },
  "language_info": {
   "codemirror_mode": {
    "name": "ipython",
    "version": 3
   },
   "file_extension": ".py",
   "mimetype": "text/x-python",
   "name": "python",
   "nbconvert_exporter": "python",
   "pygments_lexer": "ipython3",
   "version": "3.9.21"
  }
 },
 "nbformat": 4,
 "nbformat_minor": 5
}
