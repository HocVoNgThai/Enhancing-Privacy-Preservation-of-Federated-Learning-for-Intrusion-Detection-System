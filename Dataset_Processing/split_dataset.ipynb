{
 "cells": [
  {
   "cell_type": "code",
   "execution_count": 1,
   "id": "ca85be7e-4d55-41ce-95d8-0fde0c508300",
   "metadata": {},
   "outputs": [
    {
     "name": "stdout",
     "output_type": "stream",
     "text": [
      "['FL_Data1/file1.csv', 'FL_Data1/file2.csv', 'FL_Data1/file3.csv']\n"
     ]
    }
   ],
   "source": [
    "import dask.dataframe as dd\n",
    "from dask.distributed import Client\n",
    "import numpy as np\n",
    "import pandas as pd\n",
    "import sys, os\n",
    "\n",
    "# Khởi tạo Dask client để tối ưu hiệu suất\n",
    "client = Client()\n",
    "\n",
    "file_path = \"single_file.csv\"\n",
    "output_files = [\"file1.csv\", \"file2.csv\", \"file3.csv\"]\n",
    "# Tỉ lệ chia (3:2:1)\n",
    "\n",
    "# Cấu hình\n",
    "chunksize = 100000  # Đọc từng phần (tuỳ vào RAM)\n",
    "temp_dir = \"FL_Data1/\"  # Thư mục lưu file tạm\n",
    "\n",
    "output_files = [temp_dir + output_file for output_file in output_files]\n",
    "print(output_files)\n",
    "\n",
    "header_saved=False\n",
    "for chunk in pd.read_csv(file_path, chunksize=chunksize):\n",
    "    df_1 = chunk.sample(frac=0.4, random_state=42)\n",
    "    df_rest = chunk.drop(df_1.index)\n",
    "    df_2 = df_rest.sample(frac=0.5, random_state=42)\n",
    "    df_3 = df_rest.drop(df_2.index)\n",
    "\n",
    "    df_1.to_csv(output_files[0], mode=\"a\", header=not header_saved, index=False)\n",
    "    df_2.to_csv(output_files[1], mode=\"a\", header=not header_saved, index=False)\n",
    "    df_3.to_csv(output_files[2], mode=\"a\", header=not header_saved, index=False)\n",
    "    header_saved = True\n"
   ]
  },
  {
   "cell_type": "code",
   "execution_count": 3,
   "id": "8ae1384d-348d-4fac-b7a5-133573115c27",
   "metadata": {},
   "outputs": [
    {
     "name": "stderr",
     "output_type": "stream",
     "text": [
      "/home/th/miniconda3/envs/tf/lib/python3.9/site-packages/distributed/node.py:182: UserWarning: Port 8787 is already in use.\n",
      "Perhaps you already have a cluster running?\n",
      "Hosting the HTTP server on port 42387 instead\n",
      "  warnings.warn(\n"
     ]
    },
    {
     "name": "stdout",
     "output_type": "stream",
     "text": [
      "['FL_Data2/file1.csv', 'FL_Data2/file2.csv', 'FL_Data2/file3.csv']\n"
     ]
    }
   ],
   "source": [
    "import dask.dataframe as dd\n",
    "from dask.distributed import Client\n",
    "import numpy as np\n",
    "import pandas as pd\n",
    "import sys, os\n",
    "\n",
    "# Khởi tạo Dask client để tối ưu hiệu suất\n",
    "client = Client()\n",
    "\n",
    "file_path = \"single_file.csv\"\n",
    "output_files = [\"file1.csv\", \"file2.csv\", \"file3.csv\"]\n",
    "temp_dir = \"FL_Data2/\"  # Thư mục lưu file tạm\n",
    "output_files = [temp_dir + output_file for output_file in output_files]\n",
    "print(output_files)\n",
    "\n",
    "# Định nghĩa tỉ lệ mong muốn cho từng file (label 0: label 1)\n",
    "target_ratios = {\n",
    "    output_files[0]: (463594, 1191181),  # File 1: label 0: label 1 = 1:3\n",
    "    output_files[1]: (338276, 1233132),  # File 2: label 0: label 1 = 1:5\n",
    "    output_files[2]: (296325, 1575683)   # File 3: label 0: label 1 = 3:2\n",
    "}\n",
    "\n",
    "# Cấu hình\n",
    "chunksize = 100000  # Đọc từng phần (tuỳ vào RAM)\n",
    "header_saved = False\n",
    "\n",
    "for chunk in pd.read_csv(file_path, chunksize=chunksize):\n",
    "    # Tách dữ liệu theo nhãn (giả sử cột nhãn là 'label')\n",
    "    label_0 = chunk[chunk['label'] == 0]\n",
    "    label_1 = chunk[chunk['label'] == 1]\n",
    "\n",
    "    # Tính tổng số mẫu trong chunk\n",
    "    total_samples = len(chunk)\n",
    "    total_label_0 = len(label_0)\n",
    "    total_label_1 = len(label_1)\n",
    "\n",
    "    if total_label_0 == 0 or total_label_1 == 0:\n",
    "        print(f\"Chunk {chunk.index[0]} không có đủ nhãn để chia!\")\n",
    "        continue\n",
    "\n",
    "    # Tính số lượng mẫu cần lấy cho từng file dựa trên tỉ lệ\n",
    "    file_samples = {file: {'label_0': 0, 'label_1': 0} for file in output_files}\n",
    "\n",
    "    # Phân bổ mẫu theo tỉ lệ\n",
    "    remaining_label_0 = total_label_0\n",
    "    remaining_label_1 = total_label_1\n",
    "\n",
    "    for file, (ratio_0, ratio_1) in target_ratios.items():\n",
    "        # Tính tỷ lệ tổng (ratio_0 + ratio_1)\n",
    "        total_ratio = ratio_0 + ratio_1\n",
    "        # Ước lượng số mẫu cho file này dựa trên tỉ lệ tổng\n",
    "        file_size = int(total_samples / len(output_files))  # Phân bổ đều ban đầu\n",
    "        label_0_count = int(file_size * (ratio_0 / total_ratio))\n",
    "        label_1_count = int(file_size * (ratio_1 / total_ratio))\n",
    "\n",
    "        # Điều chỉnh để không vượt quá số lượng mẫu còn lại\n",
    "        label_0_count = min(label_0_count, remaining_label_0)\n",
    "        label_1_count = min(label_1_count, remaining_label_1)\n",
    "\n",
    "        file_samples[file]['label_0'] = label_0_count\n",
    "        file_samples[file]['label_1'] = label_1_count\n",
    "        remaining_label_0 -= label_0_count\n",
    "        remaining_label_1 -= label_1_count\n",
    "\n",
    "    # Phân bổ phần còn lại (nếu có) để đảm bảo không bỏ sót mẫu\n",
    "    for file in output_files:\n",
    "        if remaining_label_0 > 0:\n",
    "            file_samples[file]['label_0'] += 1\n",
    "            remaining_label_0 -= 1\n",
    "        if remaining_label_1 > 0:\n",
    "            file_samples[file]['label_1'] += 1\n",
    "            remaining_label_1 -= 1\n",
    "\n",
    "    # Lấy mẫu ngẫu nhiên từ từng nhóm nhãn\n",
    "    df_1 = pd.concat([label_0.sample(n=file_samples[output_files[0]]['label_0'], random_state=42),\n",
    "                      label_1.sample(n=file_samples[output_files[0]]['label_1'], random_state=42)])\n",
    "    df_2 = pd.concat([label_0.sample(n=file_samples[output_files[1]]['label_0'], random_state=42),\n",
    "                      label_1.sample(n=file_samples[output_files[1]]['label_1'], random_state=42)])\n",
    "    df_3 = pd.concat([label_0.sample(n=file_samples[output_files[2]]['label_0'], random_state=42),\n",
    "                      label_1.sample(n=file_samples[output_files[2]]['label_1'], random_state=42)])\n",
    "\n",
    "    # Lưu dữ liệu vào file\n",
    "    df_1.to_csv(output_files[0], mode=\"a\", header=not header_saved, index=False)\n",
    "    df_2.to_csv(output_files[1], mode=\"a\", header=not header_saved, index=False)\n",
    "    df_3.to_csv(output_files[2], mode=\"a\", header=not header_saved, index=False)\n",
    "    header_saved = True\n",
    "\n",
    "# Đóng client Dask\n",
    "client.close()"
   ]
  },
  {
   "cell_type": "code",
   "execution_count": null,
   "id": "b8848e8f-5b0d-4947-8365-5d6f50063474",
   "metadata": {},
   "outputs": [],
   "source": []
  }
 ],
 "metadata": {
  "kernelspec": {
   "display_name": "Python 3 (ipykernel)",
   "language": "python",
   "name": "python3"
  },
  "language_info": {
   "codemirror_mode": {
    "name": "ipython",
    "version": 3
   },
   "file_extension": ".py",
   "mimetype": "text/x-python",
   "name": "python",
   "nbconvert_exporter": "python",
   "pygments_lexer": "ipython3",
   "version": "3.9.21"
  }
 },
 "nbformat": 4,
 "nbformat_minor": 5
}
