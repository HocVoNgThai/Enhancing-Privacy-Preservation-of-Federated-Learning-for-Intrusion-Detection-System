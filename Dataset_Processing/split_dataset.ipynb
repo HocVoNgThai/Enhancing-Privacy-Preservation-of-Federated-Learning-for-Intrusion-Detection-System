{
 "cells": [
  {
   "cell_type": "code",
   "execution_count": 5,
   "id": "ca85be7e-4d55-41ce-95d8-0fde0c508300",
   "metadata": {},
   "outputs": [
    {
     "name": "stderr",
     "output_type": "stream",
     "text": [
      "/home/th/miniconda3/envs/tf/lib/python3.9/site-packages/distributed/node.py:182: UserWarning: Port 8787 is already in use.\n",
      "Perhaps you already have a cluster running?\n",
      "Hosting the HTTP server on port 46485 instead\n",
      "  warnings.warn(\n"
     ]
    },
    {
     "name": "stdout",
     "output_type": "stream",
     "text": [
      "['FL_Dataset/test.csv', 'FL_Dataset/file1.csv', 'FL_Dataset/file2.csv', 'FL_Dataset/file3.csv']\n"
     ]
    }
   ],
   "source": [
    "import dask.dataframe as dd\n",
    "from dask.distributed import Client\n",
    "import numpy as np\n",
    "import pandas as pd\n",
    "import sys, os\n",
    "\n",
    "# Khởi tạo Dask client để tối ưu hiệu suất\n",
    "client = Client()\n",
    "\n",
    "file_path = \"remapping_dataset_2type.csv\"\n",
    "output_files = [\"test.csv\", \"file1.csv\", \"file2.csv\", \"file3.csv\"]\n",
    "# Tỉ lệ chia (3:2:1)\n",
    "\n",
    "# Cấu hình\n",
    "chunksize = 100000  # Đọc từng phần (tuỳ vào RAM)\n",
    "temp_dir = \"FL_Dataset/\"  # Thư mục lưu file tạm\n",
    "\n",
    "output_files = [temp_dir + output_file for output_file in output_files]\n",
    "print(output_files)\n",
    "\n",
    "header_saved=False\n",
    "for chunk in pd.read_csv(file_path, chunksize=chunksize):\n",
    "    df_1 = chunk.sample(frac=0.2, random_state=42)\n",
    "    df_rest = chunk.drop(df_1.index)\n",
    "    df_2 = df_rest.sample(frac=1/4, random_state=42)\n",
    "    df_rest1 = df_rest.drop(df_2.index)\n",
    "    df_3 = df_rest1.sample(frac=0.5, random_state=42)\n",
    "    df_4 = df_rest1.drop(df_3.index)\n",
    "\n",
    "    df_1.to_csv(output_files[0], mode=\"a\", header=not header_saved, index=False)\n",
    "    df_2.to_csv(output_files[1], mode=\"a\", header=not header_saved, index=False)\n",
    "    df_3.to_csv(output_files[2], mode=\"a\", header=not header_saved, index=False)\n",
    "    df_4.to_csv(output_files[3], mode=\"a\", header=not header_saved, index=False)\n",
    "    header_saved = True\n"
   ]
  },
  {
   "cell_type": "code",
   "execution_count": null,
   "id": "8ae1384d-348d-4fac-b7a5-133573115c27",
   "metadata": {},
   "outputs": [],
   "source": []
  }
 ],
 "metadata": {
  "kernelspec": {
   "display_name": "Python 3 (ipykernel)",
   "language": "python",
   "name": "python3"
  },
  "language_info": {
   "codemirror_mode": {
    "name": "ipython",
    "version": 3
   },
   "file_extension": ".py",
   "mimetype": "text/x-python",
   "name": "python",
   "nbconvert_exporter": "python",
   "pygments_lexer": "ipython3",
   "version": "3.9.21"
  }
 },
 "nbformat": 4,
 "nbformat_minor": 5
}
