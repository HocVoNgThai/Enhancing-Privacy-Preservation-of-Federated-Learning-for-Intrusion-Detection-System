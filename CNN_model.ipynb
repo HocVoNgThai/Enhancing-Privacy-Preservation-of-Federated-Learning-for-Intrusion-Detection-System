{
 "cells": [
  {
   "cell_type": "code",
   "execution_count": null,
   "metadata": {
    "id": "kR0Ag4XbNY_1"
   },
   "outputs": [],
   "source": [
    "import tensorflow as tf\n",
    "from tensorflow import keras\n",
    "from tensorflow.keras import layers\n",
    "import dask.dataframe as dk\n",
    "import numpy as np\n",
    "from tensorflow.keras.utils import Sequence, to_categorical\n",
    "from sklearn.model_selection import train_test_split\n",
    "from sklearn.metrics import accuracy_score, precision_score, recall_score, f1_score, classification_report\n",
    "from sklearn.preprocessing import OneHotEncoder\n",
    "\n",
    "csv_file = '/content/drive/MyDrive/Colab_Notebooks/Mapped_Dataset.csv'  # Update with your CSV file path\n",
    "\n",
    "# Load data in batches using Dask\n",
    "def load_data_in_batches(csv_file, batch_size=100000):\n",
    "    ddf = dk.read_csv(csv_file)\n",
    "    encoder = OneHotEncoder(sparse_output=False)\n",
    "\n",
    "    for batch in ddf.to_delayed():\n",
    "        df = batch.compute()  # Chuyển từ Dask -> Pandas (batch nhỏ)\n",
    "        features = df.iloc[:, :-1].values.astype(np.float32)\n",
    "        labels = encoder.fit_transform(df.iloc[:, -1].values.reshape(-1, 1))\n",
    "        for i in range(0, len(features), batch_size):\n",
    "            yield features[i:i+batch_size], labels[i:i+batch_size]\n",
    "\n",
    "\n",
    "\n",
    "# Create TensorFlow Dataset from generator\n",
    "def create_tf_dataset(csv_file, batch_size=512):\n",
    "    output_signature = (\n",
    "        tf.TensorSpec(shape=(None, 46, 1), dtype=tf.float32),  # shape: (batch, features, 1)\n",
    "        tf.TensorSpec(shape=(None, 10), dtype=tf.float32)       # shape: (batch, labels)\n",
    "    )\n",
    "\n",
    "    def generator():\n",
    "        for features, labels in load_data_in_batches(csv_file, batch_size):\n",
    "            features = np.expand_dims(features, axis=-1)  # Conv1D yêu cầu shape (batch, timesteps, 1)\n",
    "            yield features, labels\n",
    "\n",
    "    return tf.data.Dataset.from_generator(generator, output_signature=output_signature).prefetch(tf.data.AUTOTUNE)\n",
    "\n",
    "\n",
    "dataset = create_tf_dataset(csv_file, 512)"
   ]
  },
  {
   "cell_type": "code",
   "execution_count": null,
   "metadata": {
    "colab": {
     "base_uri": "https://localhost:8080/"
    },
    "executionInfo": {
     "elapsed": 7585462,
     "status": "ok",
     "timestamp": 1741260845273,
     "user": {
      "displayName": "Thái Học",
      "userId": "11878080912544923467"
     },
     "user_tz": -420
    },
    "id": "Jg1BHx14NY_3",
    "outputId": "73c31328-ffaf-4163-d011-4a1f77dc31ea"
   },
   "outputs": [],
   "source": [
    "# CNN model definition\n",
    "def create_cnn_model(input_shape, output_shape):\n",
    "    model = keras.Sequential([\n",
    "        layers.Input(shape=input_shape),\n",
    "        layers.Conv1D(filters=32, kernel_size=3, activation='relu'),\n",
    "        layers.MaxPooling1D(pool_size=2),\n",
    "        layers.Flatten(),\n",
    "        layers.Dense(128, activation='relu'),\n",
    "        layers.Dropout(0.5),\n",
    "        layers.BatchNormalization(),\n",
    "        layers.Dense(output_shape, activation='softmax')\n",
    "    ])\n",
    "    model.compile(optimizer='adam', loss='categorical_crossentropy', metrics=['accuracy'])\n",
    "    return model\n",
    "# Reshape input for Conv1D\n",
    "# dataset = dataset.map(lambda x, y: (tf.expand_dims(x, -1), y))\n",
    "sample_features, sample_labels = next(iter(dataset))\n",
    "input_shape = (sample_features.shape[1], 1)\n",
    "output_shape = sample_labels.shape[1]\n",
    "model = create_cnn_model(input_shape, output_shape)\n",
    "model.fit(dataset, epochs=10, steps_per_epoch=91000)\n",
    "model.save('trained_cnn_model.keras')\n",
    "print(\"Model training complete. Model saved as 'trained_cnn_model.h5'.\")\n"
   ]
  }
 ],
 "metadata": {
  "accelerator": "GPU",
  "colab": {
   "gpuType": "T4",
   "provenance": []
  },
  "kernelspec": {
   "display_name": "Python 3",
   "name": "python3"
  },
  "language_info": {
   "codemirror_mode": {
    "name": "ipython",
    "version": 3
   },
   "file_extension": ".py",
   "mimetype": "text/x-python",
   "name": "python",
   "nbconvert_exporter": "python",
   "pygments_lexer": "ipython3",
   "version": "3.11.5"
  }
 },
 "nbformat": 4,
 "nbformat_minor": 0
}
