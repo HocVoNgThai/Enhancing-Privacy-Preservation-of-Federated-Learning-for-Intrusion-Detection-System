{
 "cells": [
  {
   "cell_type": "code",
   "execution_count": 1,
   "metadata": {},
   "outputs": [
    {
     "name": "stderr",
     "output_type": "stream",
     "text": [
      "2025-04-15 14:23:10.246061: I tensorflow/core/util/port.cc:153] oneDNN custom operations are on. You may see slightly different numerical results due to floating-point round-off errors from different computation orders. To turn them off, set the environment variable `TF_ENABLE_ONEDNN_OPTS=0`.\n",
      "2025-04-15 14:23:10.428013: E external/local_xla/xla/stream_executor/cuda/cuda_fft.cc:467] Unable to register cuFFT factory: Attempting to register factory for plugin cuFFT when one has already been registered\n",
      "WARNING: All log messages before absl::InitializeLog() is called are written to STDERR\n",
      "E0000 00:00:1744701790.496056     776 cuda_dnn.cc:8579] Unable to register cuDNN factory: Attempting to register factory for plugin cuDNN when one has already been registered\n",
      "E0000 00:00:1744701790.514509     776 cuda_blas.cc:1407] Unable to register cuBLAS factory: Attempting to register factory for plugin cuBLAS when one has already been registered\n",
      "W0000 00:00:1744701790.653828     776 computation_placer.cc:177] computation placer already registered. Please check linkage and avoid linking the same target more than once.\n",
      "W0000 00:00:1744701790.653869     776 computation_placer.cc:177] computation placer already registered. Please check linkage and avoid linking the same target more than once.\n",
      "W0000 00:00:1744701790.653870     776 computation_placer.cc:177] computation placer already registered. Please check linkage and avoid linking the same target more than once.\n",
      "W0000 00:00:1744701790.653871     776 computation_placer.cc:177] computation placer already registered. Please check linkage and avoid linking the same target more than once.\n",
      "2025-04-15 14:23:10.674344: I tensorflow/core/platform/cpu_feature_guard.cc:210] This TensorFlow binary is optimized to use available CPU instructions in performance-critical operations.\n",
      "To enable the following instructions: AVX2 AVX_VNNI FMA, in other operations, rebuild TensorFlow with the appropriate compiler flags.\n"
     ]
    },
    {
     "name": "stdout",
     "output_type": "stream",
     "text": [
      "['2Type_file1.csv', '2Type_file2.csv', '2Type_file3.csv']\n"
     ]
    }
   ],
   "source": [
    "import numpy as np\n",
    "import pandas as pd\n",
    "import zipfile\n",
    "import dask.dataframe as dk\n",
    "import tensorflow as tf\n",
    "import io\n",
    "from tensorflow.keras.utils import Sequence, to_categorical\n",
    "from tensorflow.keras.models import Sequential\n",
    "from tensorflow.keras import layers, models\n",
    "from tensorflow.keras.layers import Conv1D, MaxPooling1D, Flatten, Dense, Dropout\n",
    "# temp_dir = \"C:/Users/hoang/FileCSV_DACN_2025/ddos_dos_\"  # Thư mục lưu file tạm\n",
    "\n",
    "input_files = [f\"file{i+1}.csv\" for i in range(3)]\n",
    "\n",
    "temp_dir =  \"2Type_\"\n",
    "\n",
    "input_files = [temp_dir + output_file for output_file in input_files]\n",
    "print(input_files)\n",
    "df = [dk.read_csv(file) for file in input_files]\n",
    "\n",
    "# input_zip = \"/mnt/c/Users/hoang/FileCSV_DACN_2025/2Type.zip\"\n",
    "# csv_files = []\n",
    "# with zipfile.ZipFile(input_zip, 'r') as z:\n",
    "#     csv_files = [f for f in z.namelist() if f.endswith('.csv')]\n",
    "# print(csv_files)\n",
    "# df = [dk.read_csv(f'zip://{file}::{input_zip}') for file in csv_files]\n",
    "# print(df[0].shape)"
   ]
  },
  {
   "cell_type": "code",
   "execution_count": 2,
   "metadata": {},
   "outputs": [],
   "source": [
    "batch_size = 512\n",
    "ratio_test_all = 0.15\n",
    "\n",
    "from dask_ml.model_selection import train_test_split \n",
    "# Split \n",
    "train_df, test_df = train_test_split(df, test_size=ratio_test_all, random_state=42, shuffle=True)\n",
    "\n",
    "# def dask_to_tf_dataset(dask_df, batch_size, num_classes): \n",
    "#     def generator():\n",
    "#         for batch in dask_df.to_delayed():\n",
    "#             batch=batch.compute()  \n",
    "#             if batch.empty:\n",
    "#                 continue\n",
    "\n",
    "#             X = batch.drop(columns='label').values.astype(np.float32)\n",
    "#             y = batch['label'].values\n",
    "#             y_onehot = to_categorical(y, num_classes=num_classes)  \n",
    "\n",
    "#             num_splits = max(1, len(X) // batch_size)  # Đảm bảo không chia nhỏ quá mức\n",
    "#             X_batches = np.array_split(X, num_splits)\n",
    "#             y_batches = np.array_split(y_onehot, num_splits)\n",
    "\n",
    "#             for X_batch, y_batch in zip(X_batches, y_batches):\n",
    "#                 yield X_batch, y_batch\n",
    "                \n",
    "#     output_signature = ( \n",
    "#         tf.TensorSpec(shape=(None, 46), dtype=tf.float32), \n",
    "#         tf.TensorSpec(shape=(None, 3), dtype=tf.int32),\n",
    "#     )\n",
    "    \n",
    "#     return tf.data.Dataset.from_generator(generator, output_signature=output_signature).prefetch(tf.data.AUTOTUNE)\n",
    "\n",
    "\n",
    "############## binary ########################\n",
    "# # load từng batch\n",
    "def dask_to_tf_dataset(dask_df, batch_size): \n",
    "    def generator():\n",
    "        for batch in dask_df.to_delayed():\n",
    "            batch = batch.compute()  \n",
    "            if batch.empty:\n",
    "                continue\n",
    "\n",
    "            X = batch.drop(columns='label').values.astype(np.float32)\n",
    "            y = batch['label'].values.astype(np.int32)  # nhị phân: 0 hoặc 1\n",
    "\n",
    "            num_splits = max(1, len(X) // batch_size)\n",
    "            X_batches = np.array_split(X, num_splits)\n",
    "            y_batches = np.array_split(y, num_splits)\n",
    "\n",
    "            for X_batch, y_batch in zip(X_batches, y_batches):\n",
    "                yield X_batch, y_batch\n",
    "\n",
    "    output_signature = ( \n",
    "        tf.TensorSpec(shape=(None, 46), dtype=tf.float32), \n",
    "        tf.TensorSpec(shape=(None,), dtype=tf.int32),  # không phải one-hot nữa\n",
    "    )\n",
    "    \n",
    "    return tf.data.Dataset.from_generator(generator, output_signature=output_signature).prefetch(tf.data.AUTOTUNE)\n",
    "############ binary ###########"
   ]
  },
  {
   "cell_type": "code",
   "execution_count": 3,
   "metadata": {},
   "outputs": [
    {
     "name": "stderr",
     "output_type": "stream",
     "text": [
      "I0000 00:00:1744701797.510850     776 gpu_device.cc:2019] Created device /job:localhost/replica:0/task:0/device:GPU:0 with 3539 MB memory:  -> device: 0, name: NVIDIA GeForce RTX 4050 Laptop GPU, pci bus id: 0000:01:00.0, compute capability: 8.9\n"
     ]
    }
   ],
   "source": [
    "# train_df1, test_df1 = df1.random_split([1 - ratio_test_all, ratio_test_all])\n",
    "# train_df2, test_df2 = df2.random_split([1 - ratio_test_all, ratio_test_all])\n",
    "# train_df3, test_df3 = df3.random_split([1 - ratio_test_all, ratio_test_all])\n",
    "train_dfs = []\n",
    "test_dfs = []\n",
    "for dff in df:\n",
    "    train_df, test_df =dff.random_split([1 - ratio_test_all, ratio_test_all])\n",
    "    train_dfs.append(train_df)\n",
    "    test_dfs.append(test_df)\n",
    "   \n",
    "\n",
    "train_gens = [dask_to_tf_dataset(train_df, 512).repeat() for train_df in train_dfs]\n",
    "\n",
    "test_gens = [dask_to_tf_dataset(test_df , 512) for test_df in test_dfs]"
   ]
  },
  {
   "cell_type": "code",
   "execution_count": 4,
   "metadata": {
    "scrolled": true
   },
   "outputs": [
    {
     "name": "stdout",
     "output_type": "stream",
     "text": [
      "['server_0']\n",
      "['client_0', 'client_1', 'client_2']\n",
      "11950\n",
      "23894\n",
      "35842\n",
      "Agent_Dict:  <client.Client object at 0x7f2800bb1970>\n",
      "<server.Server object at 0x7f2800bb1b20>\n"
     ]
    }
   ],
   "source": [
    "import datetime\n",
    "import numpy as np\n",
    "import tenseal as ts\n",
    "#\n",
    "from server import Server\n",
    "from client import Client\n",
    "num_servers = 1\n",
    "num_clients = 3\n",
    "\n",
    "stepsPerEpoch_Clients = [int( np.ceil(train_dfs[index].shape[0] / batch_size)) for index in range(num_clients)]\n",
    "\n",
    "active_servers_list  = ['server_'+str(i)\\\n",
    "                        for i in range(num_servers)]\n",
    "active_clients_list  = ['client_'+str(i)\\\n",
    "                        for i in range(num_clients)]\n",
    "\n",
    "print(active_servers_list)\n",
    "print(active_clients_list)\n",
    "\n",
    "def init_he_context():\n",
    "    \"\"\"Thiết lập context mã hóa đồng hình\"\"\"\n",
    "    context = ts.context(\n",
    "        ts.SCHEME_TYPE.CKKS, # ckks cho số thực, bfv cho int\n",
    "        poly_modulus_degree=8192,\n",
    "        coeff_mod_bit_sizes=[60, 40, 40, 60]\n",
    "    )\n",
    "    context.generate_galois_keys()\n",
    "    context.global_scale = 2**40\n",
    "    return context\n",
    "\n",
    "context = init_he_context()\n",
    "agents_dict= {}\n",
    "serverObjects={}\n",
    "clientObjects={}\n",
    "serverObjects = {server_name: Server(server_name=server_name, \\\n",
    "                        active_clients_list=active_clients_list) \\\n",
    "                        for server_name in active_servers_list}\n",
    "\n",
    "clientObjects = {client_name: Client(client_name, train_gens[clientID], test_gens[clientID], \\\n",
    "                        active_clients_list = active_clients_list, he_context=context) \\\n",
    "                        for clientID, client_name in enumerate(active_clients_list)}\n",
    "\n",
    "for index, client_name in enumerate(active_clients_list):\n",
    "    clientObjects[client_name].set_steps_per_epoch(stepsPerEpoch_Clients[index])\n",
    "    clientObjects[client_name].get_steps_per_epoch()\n",
    "    \n",
    "# lưu dict\n",
    "agents_dict['server'] = serverObjects\n",
    "agents_dict['client'] = clientObjects\n",
    "\n",
    "# init agents_dict vừa tạo vào client, server\n",
    "for agent_name, agent in serverObjects.items():\n",
    "    agent.set_agentsDict(agents_dict=agents_dict)\n",
    "for agent_name, agent in clientObjects.items():\n",
    "    agent.set_agentsDict(agents_dict=agents_dict)\n",
    "\n",
    "client_name = 'client_1'\n",
    "print(\"Agent_Dict: \", agents_dict['client'][client_name])\n",
    "\n",
    "server = agents_dict['server']['server_0']\n",
    "print(server)"
   ]
  },
  {
   "cell_type": "code",
   "execution_count": 5,
   "metadata": {},
   "outputs": [
    {
     "name": "stdout",
     "output_type": "stream",
     "text": [
      "====================================== Đang chạy Iteration 1 ======================================\n",
      "Epoch 1/5\n",
      "Epoch 1/5\n",
      "Epoch 1/5\n"
     ]
    },
    {
     "name": "stderr",
     "output_type": "stream",
     "text": [
      "WARNING: All log messages before absl::InitializeLog() is called are written to STDERR\n",
      "I0000 00:00:1744701849.033297     835 service.cc:152] XLA service 0x7f26ec00de00 initialized for platform CUDA (this does not guarantee that XLA will be used). Devices:\n",
      "I0000 00:00:1744701849.033377     835 service.cc:160]   StreamExecutor device (0): NVIDIA GeForce RTX 4050 Laptop GPU, Compute Capability 8.9\n",
      "2025-04-15 14:24:09.086846: I tensorflow/compiler/mlir/tensorflow/utils/dump_mlir_util.cc:269] disabling MLIR crash reproducer, set env var `MLIR_CRASH_REPRODUCER_DIRECTORY` to enable.\n",
      "I0000 00:00:1744701849.342098     829 cuda_dnn.cc:529] Loaded cuDNN version 90300\n"
     ]
    },
    {
     "name": "stdout",
     "output_type": "stream",
     "text": [
      "\u001b[1m   24/23894\u001b[0m \u001b[37m━━━━━━━━━━━━━━━━━━━━\u001b[0m \u001b[1m1:54\u001b[0m 5ms/step - accuracy: 0.5575 - loss: 0.7297"
     ]
    },
    {
     "name": "stderr",
     "output_type": "stream",
     "text": [
      "2025-04-15 14:24:12.374750: I external/local_xla/xla/stream_executor/cuda/subprocess_compilation.cc:346] ptxas warning : Registers are spilled to local memory in function 'input_reduce_select_transpose_fusion', 224 bytes spill stores, 220 bytes spill loads\n",
      "\n",
      "I0000 00:00:1744701852.386899     835 device_compiler.h:188] Compiled cluster using XLA!  This line is logged at most once for the lifetime of the process.\n",
      "2025-04-15 14:24:12.389497: I external/local_xla/xla/stream_executor/cuda/subprocess_compilation.cc:346] ptxas warning : Registers are spilled to local memory in function 'input_reduce_select_transpose_fusion', 236 bytes spill stores, 212 bytes spill loads\n",
      "\n",
      "2025-04-15 14:24:12.461081: I external/local_xla/xla/stream_executor/cuda/subprocess_compilation.cc:346] ptxas warning : Registers are spilled to local memory in function 'input_reduce_select_transpose_fusion', 224 bytes spill stores, 220 bytes spill loads\n",
      "\n"
     ]
    },
    {
     "name": "stdout",
     "output_type": "stream",
     "text": [
      "\u001b[1m  173/23894\u001b[0m \u001b[37m━━━━━━━━━━━━━━━━━━━━\u001b[0m \u001b[1m3:56\u001b[0m 10ms/step - accuracy: 0.7842 - loss: 0.4825"
     ]
    },
    {
     "name": "stderr",
     "output_type": "stream",
     "text": [
      "2025-04-15 14:24:13.968447: I external/local_xla/xla/stream_executor/cuda/subprocess_compilation.cc:346] ptxas warning : Registers are spilled to local memory in function 'input_reduce_select_transpose_fusion', 224 bytes spill stores, 220 bytes spill loads\n",
      "\n",
      "2025-04-15 14:24:14.056458: I external/local_xla/xla/stream_executor/cuda/subprocess_compilation.cc:346] ptxas warning : Registers are spilled to local memory in function 'input_reduce_select_transpose_fusion', 276 bytes spill stores, 264 bytes spill loads\n",
      "\n"
     ]
    },
    {
     "name": "stdout",
     "output_type": "stream",
     "text": [
      "\u001b[1m  318/11950\u001b[0m \u001b[37m━━━━━━━━━━━━━━━━━━━━\u001b[0m \u001b[1m1:27\u001b[0m 8ms/step - accuracy: 0.8589 - loss: 0.3428"
     ]
    },
    {
     "name": "stderr",
     "output_type": "stream",
     "text": [
      "2025-04-15 14:24:14.698827: I external/local_xla/xla/stream_executor/cuda/subprocess_compilation.cc:346] ptxas warning : Registers are spilled to local memory in function 'input_reduce_select_transpose_fusion', 276 bytes spill stores, 264 bytes spill loads\n",
      "\n"
     ]
    },
    {
     "name": "stdout",
     "output_type": "stream",
     "text": [
      "\u001b[1m  402/35842\u001b[0m \u001b[37m━━━━━━━━━━━━━━━━━━━━\u001b[0m \u001b[1m7:14\u001b[0m 12ms/step - accuracy: 0.8821 - loss: 0.3053"
     ]
    },
    {
     "name": "stderr",
     "output_type": "stream",
     "text": [
      "2025-04-15 14:24:17.165857: I external/local_xla/xla/stream_executor/cuda/subprocess_compilation.cc:346] ptxas warning : Registers are spilled to local memory in function 'input_reduce_select_transpose_fusion', 236 bytes spill stores, 212 bytes spill loads\n",
      "\n"
     ]
    },
    {
     "name": "stdout",
     "output_type": "stream",
     "text": [
      "\u001b[1m  799/11950\u001b[0m \u001b[32m━\u001b[0m\u001b[37m━━━━━━━━━━━━━━━━━━━\u001b[0m \u001b[1m1:34\u001b[0m 8ms/step - accuracy: 0.9229 - loss: 0.2074"
     ]
    },
    {
     "name": "stderr",
     "output_type": "stream",
     "text": [
      "2025-04-15 14:24:18.209536: I external/local_xla/xla/stream_executor/cuda/subprocess_compilation.cc:346] ptxas warning : Registers are spilled to local memory in function 'input_reduce_select_transpose_fusion', 276 bytes spill stores, 264 bytes spill loads\n",
      "\n"
     ]
    },
    {
     "name": "stdout",
     "output_type": "stream",
     "text": [
      "\u001b[1m 1273/23894\u001b[0m \u001b[32m━\u001b[0m\u001b[37m━━━━━━━━━━━━━━━━━━━\u001b[0m \u001b[1m3:07\u001b[0m 8ms/step - accuracy: 0.9398 - loss: 0.1730"
     ]
    },
    {
     "name": "stderr",
     "output_type": "stream",
     "text": [
      "2025-04-15 14:24:22.793868: I external/local_xla/xla/stream_executor/cuda/subprocess_compilation.cc:346] ptxas warning : Registers are spilled to local memory in function 'input_reduce_select_transpose_fusion', 236 bytes spill stores, 212 bytes spill loads\n",
      "\n"
     ]
    },
    {
     "name": "stdout",
     "output_type": "stream",
     "text": [
      "\u001b[1m11950/11950\u001b[0m \u001b[32m━━━━━━━━━━━━━━━━━━━━\u001b[0m\u001b[37m\u001b[0m \u001b[1m85s\u001b[0m 7ms/step - accuracy: 0.9847 - loss: 0.0578\n",
      "Epoch 2/5\n",
      "\u001b[1m23894/23894\u001b[0m \u001b[32m━━━━━━━━━━━━━━━━━━━━\u001b[0m\u001b[37m\u001b[0m \u001b[1m159s\u001b[0m 6ms/step - accuracy: 0.9873 - loss: 0.0529\n",
      "Epoch 2/5\n",
      "\u001b[1m11950/11950\u001b[0m \u001b[32m━━━━━━━━━━━━━━━━━━━━\u001b[0m\u001b[37m\u001b[0m \u001b[1m74s\u001b[0m 6ms/step - accuracy: 0.9942 - loss: 0.0292\n",
      "Epoch 3/5\n",
      "\u001b[1m35842/35842\u001b[0m \u001b[32m━━━━━━━━━━━━━━━━━━━━\u001b[0m\u001b[37m\u001b[0m \u001b[1m234s\u001b[0m 6ms/step - accuracy: 0.9900 - loss: 0.0428\n",
      "Epoch 2/5\n",
      "\u001b[1m11950/11950\u001b[0m \u001b[32m━━━━━━━━━━━━━━━━━━━━\u001b[0m\u001b[37m\u001b[0m \u001b[1m75s\u001b[0m 6ms/step - accuracy: 0.9935 - loss: 0.0319\n",
      "Epoch 4/5\n",
      "\u001b[1m23894/23894\u001b[0m \u001b[32m━━━━━━━━━━━━━━━━━━━━\u001b[0m\u001b[37m\u001b[0m \u001b[1m151s\u001b[0m 6ms/step - accuracy: 0.9925 - loss: 0.0362\n",
      "\u001b[1m11764/11950\u001b[0m \u001b[32m━━━━━━━━━━━━━━━━━━━\u001b[0m\u001b[37m━\u001b[0m \u001b[1m1s\u001b[0m 6ms/step - accuracy: 0.9938 - loss: 0.0290Epoch 3/5\n",
      "\u001b[1m11950/11950\u001b[0m \u001b[32m━━━━━━━━━━━━━━━━━━━━\u001b[0m\u001b[37m\u001b[0m \u001b[1m78s\u001b[0m 7ms/step - accuracy: 0.9938 - loss: 0.0289\n",
      "Epoch 5/5\n",
      "\u001b[1m11950/11950\u001b[0m \u001b[32m━━━━━━━━━━━━━━━━━━━━\u001b[0m\u001b[37m\u001b[0m \u001b[1m80s\u001b[0m 7ms/step - accuracy: 0.9933 - loss: 0.0315\n",
      "\u001b[1m24004/35842\u001b[0m \u001b[32m━━━━━━━━━━━━━\u001b[0m\u001b[37m━━━━━━━\u001b[0m \u001b[1m1:18\u001b[0m 7ms/step - accuracy: 0.9938 - loss: 0.0286client_0Come end!\n",
      "\u001b[1m23894/23894\u001b[0m \u001b[32m━━━━━━━━━━━━━━━━━━━━\u001b[0m\u001b[37m\u001b[0m \u001b[1m135s\u001b[0m 6ms/step - accuracy: 0.9933 - loss: 0.0312\n",
      "Epoch 4/5\n",
      "\u001b[1m35842/35842\u001b[0m \u001b[32m━━━━━━━━━━━━━━━━━━━━\u001b[0m\u001b[37m\u001b[0m \u001b[1m212s\u001b[0m 6ms/step - accuracy: 0.9938 - loss: 0.0286\n",
      "Epoch 3/5\n",
      "\u001b[1m23894/23894\u001b[0m \u001b[32m━━━━━━━━━━━━━━━━━━━━\u001b[0m\u001b[37m\u001b[0m \u001b[1m120s\u001b[0m 5ms/step - accuracy: 0.9946 - loss: 0.0247\n",
      "Epoch 5/5\n",
      "\u001b[1m35842/35842\u001b[0m \u001b[32m━━━━━━━━━━━━━━━━━━━━\u001b[0m\u001b[37m\u001b[0m \u001b[1m175s\u001b[0m 5ms/step - accuracy: 0.9939 - loss: 0.0277\n",
      "Epoch 4/5\n",
      "\u001b[1m23894/23894\u001b[0m \u001b[32m━━━━━━━━━━━━━━━━━━━━\u001b[0m\u001b[37m\u001b[0m \u001b[1m107s\u001b[0m 4ms/step - accuracy: 0.9953 - loss: 0.0217\n",
      "\u001b[1m11884/35842\u001b[0m \u001b[32m━━━━━━\u001b[0m\u001b[37m━━━━━━━━━━━━━━\u001b[0m \u001b[1m1:43\u001b[0m 4ms/step - accuracy: 0.9951 - loss: 0.0229client_1Come end!\n",
      "\u001b[1m35842/35842\u001b[0m \u001b[32m━━━━━━━━━━━━━━━━━━━━\u001b[0m\u001b[37m\u001b[0m \u001b[1m189s\u001b[0m 5ms/step - accuracy: 0.9954 - loss: 0.0216\n",
      "Epoch 5/5\n",
      "\u001b[1m35842/35842\u001b[0m \u001b[32m━━━━━━━━━━━━━━━━━━━━\u001b[0m\u001b[37m\u001b[0m \u001b[1m205s\u001b[0m 6ms/step - accuracy: 0.9958 - loss: 0.0196\n",
      "client_2Come end!\n"
     ]
    },
    {
     "name": "stderr",
     "output_type": "stream",
     "text": [
      "/home/th/miniconda3/envs/tf/lib/python3.9/site-packages/keras/src/losses/losses.py:33: SyntaxWarning: In loss categorical_crossentropy, expected y_pred.shape to be (batch_size, num_classes) with num_classes > 1. Received: y_pred.shape=(None, 1). Consider using 'binary_crossentropy' if you only have 2 classes.\n",
      "  return self.fn(y_true, y_pred, **self._fn_kwargs)\n"
     ]
    },
    {
     "name": "stdout",
     "output_type": "stream",
     "text": [
      "\u001b[1m129/400\u001b[0m \u001b[32m━━━━━━\u001b[0m\u001b[37m━━━━━━━━━━━━━━\u001b[0m \u001b[1m5s\u001b[0m 22ms/step - accuracy: 0.9950 - loss: 0.0000e+00"
     ]
    },
    {
     "name": "stderr",
     "output_type": "stream",
     "text": [
      "2025-04-15 14:41:09.172058: E external/local_xla/xla/stream_executor/cuda/cuda_timer.cc:86] Delay kernel timed out: measured time has sub-optimal accuracy. There may be a missing warmup execution, please investigate in Nsight Systems.\n"
     ]
    },
    {
     "name": "stdout",
     "output_type": "stream",
     "text": [
      "\u001b[1m200/200\u001b[0m \u001b[32m━━━━━━━━━━━━━━━━━━━━\u001b[0m\u001b[37m\u001b[0m \u001b[1m8s\u001b[0m 18ms/step - accuracy: 0.9971 - loss: 0.0000e+00\n",
      "\u001b[1m254/400\u001b[0m \u001b[32m━━━━━━━━━━━━\u001b[0m\u001b[37m━━━━━━━━\u001b[0m \u001b[1m2s\u001b[0m 15ms/step - accuracy: 0.9951 - loss: 0.0000e+00"
     ]
    },
    {
     "name": "stderr",
     "output_type": "stream",
     "text": [
      "/home/th/miniconda3/envs/tf/lib/python3.9/site-packages/keras/src/losses/losses.py:33: SyntaxWarning: In loss categorical_crossentropy, expected y_pred.shape to be (batch_size, num_classes) with num_classes > 1. Received: y_pred.shape=(None, 1). Consider using 'binary_crossentropy' if you only have 2 classes.\n",
      "  return self.fn(y_true, y_pred, **self._fn_kwargs)\n"
     ]
    },
    {
     "name": "stdout",
     "output_type": "stream",
     "text": [
      "\u001b[1m400/400\u001b[0m \u001b[32m━━━━━━━━━━━━━━━━━━━━\u001b[0m\u001b[37m\u001b[0m \u001b[1m11s\u001b[0m 16ms/step - accuracy: 0.9952 - loss: 0.0000e+00\n",
      "\u001b[1m495/600\u001b[0m \u001b[32m━━━━━━━━━━━━━━━━\u001b[0m\u001b[37m━━━━\u001b[0m \u001b[1m1s\u001b[0m 15ms/step - accuracy: 0.9954 - loss: 0.0000e+00"
     ]
    },
    {
     "name": "stderr",
     "output_type": "stream",
     "text": [
      "/home/th/miniconda3/envs/tf/lib/python3.9/site-packages/keras/src/losses/losses.py:33: SyntaxWarning: In loss categorical_crossentropy, expected y_pred.shape to be (batch_size, num_classes) with num_classes > 1. Received: y_pred.shape=(None, 1). Consider using 'binary_crossentropy' if you only have 2 classes.\n",
      "  return self.fn(y_true, y_pred, **self._fn_kwargs)\n"
     ]
    },
    {
     "name": "stdout",
     "output_type": "stream",
     "text": [
      "\u001b[1m200/200\u001b[0m \u001b[32m━━━━━━━━━━━━━━━━━━━━\u001b[0m\u001b[37m\u001b[0m \u001b[1m5s\u001b[0m 17ms/step - accuracy: 0.9975 - loss: 0.0000e+00\n",
      "Arguments:  Performance Metrics for client_0 on iteration 1 \n",
      "------------------------------------------- \n",
      "local accuracy: 0.9969499111175537 \n",
      "global accuracy: 0.9973663091659546 \n",
      "local compute time: 0:06:34.887060 \n",
      "Simulated time to receive global weights: 0:16:57.845705 \n",
      " \n",
      "\n",
      "\u001b[1m600/600\u001b[0m \u001b[32m━━━━━━━━━━━━━━━━━━━━\u001b[0m\u001b[37m\u001b[0m \u001b[1m13s\u001b[0m 14ms/step - accuracy: 0.9954 - loss: 0.0000e+00\n",
      "\u001b[1m 57/400\u001b[0m \u001b[32m━━\u001b[0m\u001b[37m━━━━━━━━━━━━━━━━━━\u001b[0m \u001b[1m3s\u001b[0m 10ms/step - accuracy: 0.9931 - loss: 0.0000e+00"
     ]
    },
    {
     "name": "stderr",
     "output_type": "stream",
     "text": [
      "/home/th/miniconda3/envs/tf/lib/python3.9/site-packages/keras/src/losses/losses.py:33: SyntaxWarning: In loss categorical_crossentropy, expected y_pred.shape to be (batch_size, num_classes) with num_classes > 1. Received: y_pred.shape=(None, 1). Consider using 'binary_crossentropy' if you only have 2 classes.\n",
      "  return self.fn(y_true, y_pred, **self._fn_kwargs)\n"
     ]
    },
    {
     "name": "stdout",
     "output_type": "stream",
     "text": [
      "\u001b[1m400/400\u001b[0m \u001b[32m━━━━━━━━━━━━━━━━━━━━\u001b[0m\u001b[37m\u001b[0m \u001b[1m8s\u001b[0m 17ms/step - accuracy: 0.9939 - loss: 0.0000e+00\n",
      "\u001b[1m317/600\u001b[0m \u001b[32m━━━━━━━━━━\u001b[0m\u001b[37m━━━━━━━━━━\u001b[0m \u001b[1m5s\u001b[0m 18ms/step - accuracy: 0.9959 - loss: 0.0000e+00Arguments:  Performance Metrics for client_1 on iteration 1 \n",
      "------------------------------------------- \n",
      "local accuracy: 0.995242178440094 \n",
      "global accuracy: 0.9940056204795837 \n",
      "local compute time: 0:11:14.483054 \n",
      "Simulated time to receive global weights: 0:16:57.845705 \n",
      " \n",
      "\n",
      "\u001b[1m600/600\u001b[0m \u001b[32m━━━━━━━━━━━━━━━━━━━━\u001b[0m\u001b[37m\u001b[0m \u001b[1m10s\u001b[0m 15ms/step - accuracy: 0.9958 - loss: 0.0000e+00\n",
      "Arguments:  Performance Metrics for client_2 on iteration 1 \n",
      "------------------------------------------- \n",
      "local accuracy: 0.9952621459960938 \n",
      "global accuracy: 0.995694637298584 \n",
      "local compute time: 0:16:57.011214 \n",
      "Simulated time to receive global weights: 0:16:57.845705 \n",
      " \n",
      "\n",
      "[client_0] :Simulated time for client set() to finish iteration 1: 0:33:56.161431\n",
      "\n",
      "[client_1] :Simulated time for client set() to finish iteration 1: 0:33:56.161431\n",
      "\n",
      "[client_2] :Simulated time for client set() to finish iteration 1: 0:33:56.161431\n",
      "\n",
      "====================================== Kết thúc Iteration 1 ======================================\n",
      "====================================== Đang chạy Iteration 2 ======================================\n",
      "2 Come here!\n",
      "2 Come here!\n",
      "Epoch 1/5\n",
      "2 Come here!\n",
      "Epoch 1/5\n",
      "Epoch 1/5\n",
      "\u001b[1m    2/35842\u001b[0m \u001b[37m━━━━━━━━━━━━━━━━━━━━\u001b[0m \u001b[1m52:01\u001b[0m 87ms/step - accuracy: 0.6696 - loss: 0.6318 "
     ]
    },
    {
     "name": "stderr",
     "output_type": "stream",
     "text": [
      "2025-04-15 14:41:34.129505: I external/local_xla/xla/stream_executor/cuda/subprocess_compilation.cc:346] ptxas warning : Registers are spilled to local memory in function 'input_reduce_select_transpose_fusion', 224 bytes spill stores, 220 bytes spill loads\n",
      "\n",
      "2025-04-15 14:41:34.129553: I external/local_xla/xla/stream_executor/cuda/subprocess_compilation.cc:346] ptxas warning : Registers are spilled to local memory in function 'input_reduce_select_transpose_fusion', 224 bytes spill stores, 220 bytes spill loads\n",
      "\n",
      "2025-04-15 14:41:34.136564: I external/local_xla/xla/stream_executor/cuda/subprocess_compilation.cc:346] ptxas warning : Registers are spilled to local memory in function 'input_reduce_select_transpose_fusion', 236 bytes spill stores, 212 bytes spill loads\n",
      "\n"
     ]
    },
    {
     "name": "stdout",
     "output_type": "stream",
     "text": [
      "\u001b[1m  119/35842\u001b[0m \u001b[37m━━━━━━━━━━━━━━━━━━━━\u001b[0m \u001b[1m11:20\u001b[0m 19ms/step - accuracy: 0.8586 - loss: 0.3694"
     ]
    },
    {
     "name": "stderr",
     "output_type": "stream",
     "text": [
      "2025-04-15 14:41:36.295230: I external/local_xla/xla/stream_executor/cuda/subprocess_compilation.cc:346] ptxas warning : Registers are spilled to local memory in function 'input_reduce_select_transpose_fusion', 276 bytes spill stores, 264 bytes spill loads\n",
      "\n"
     ]
    },
    {
     "name": "stdout",
     "output_type": "stream",
     "text": [
      "\u001b[1m  209/35842\u001b[0m \u001b[37m━━━━━━━━━━━━━━━━━━━━\u001b[0m \u001b[1m7:17\u001b[0m 12ms/step - accuracy: 0.8991 - loss: 0.2898"
     ]
    },
    {
     "name": "stderr",
     "output_type": "stream",
     "text": [
      "2025-04-15 14:41:36.595247: I external/local_xla/xla/stream_executor/cuda/subprocess_compilation.cc:346] ptxas warning : Registers are spilled to local memory in function 'input_reduce_select_transpose_fusion', 224 bytes spill stores, 220 bytes spill loads\n",
      "\n"
     ]
    },
    {
     "name": "stdout",
     "output_type": "stream",
     "text": [
      "\u001b[1m  258/23894\u001b[0m \u001b[37m━━━━━━━━━━━━━━━━━━━━\u001b[0m \u001b[1m4:32\u001b[0m 12ms/step - accuracy: 0.9113 - loss: 0.2617"
     ]
    },
    {
     "name": "stderr",
     "output_type": "stream",
     "text": [
      "2025-04-15 14:41:36.994000: I external/local_xla/xla/stream_executor/cuda/subprocess_compilation.cc:346] ptxas warning : Registers are spilled to local memory in function 'input_reduce_select_transpose_fusion', 276 bytes spill stores, 264 bytes spill loads\n",
      "\n"
     ]
    },
    {
     "name": "stdout",
     "output_type": "stream",
     "text": [
      "\u001b[1m  612/23894\u001b[0m \u001b[37m━━━━━━━━━━━━━━━━━━━━\u001b[0m \u001b[1m3:47\u001b[0m 10ms/step - accuracy: 0.9494 - loss: 0.1667"
     ]
    },
    {
     "name": "stderr",
     "output_type": "stream",
     "text": [
      "2025-04-15 14:41:39.999382: I external/local_xla/xla/stream_executor/cuda/subprocess_compilation.cc:346] ptxas warning : Registers are spilled to local memory in function 'input_reduce_select_transpose_fusion', 236 bytes spill stores, 212 bytes spill loads\n",
      "\n"
     ]
    },
    {
     "name": "stdout",
     "output_type": "stream",
     "text": [
      "\u001b[1m  994/11950\u001b[0m \u001b[32m━\u001b[0m\u001b[37m━━━━━━━━━━━━━━━━━━━\u001b[0m \u001b[1m1:26\u001b[0m 8ms/step - accuracy: 0.9580 - loss: 0.1385"
     ]
    },
    {
     "name": "stderr",
     "output_type": "stream",
     "text": [
      "2025-04-15 14:41:41.831141: I external/local_xla/xla/stream_executor/cuda/subprocess_compilation.cc:346] ptxas warning : Registers are spilled to local memory in function 'input_reduce_select_transpose_fusion', 276 bytes spill stores, 264 bytes spill loads\n",
      "\n"
     ]
    },
    {
     "name": "stdout",
     "output_type": "stream",
     "text": [
      "\u001b[1m 1155/11950\u001b[0m \u001b[32m━\u001b[0m\u001b[37m━━━━━━━━━━━━━━━━━━━\u001b[0m \u001b[1m1:35\u001b[0m 9ms/step - accuracy: 0.9616 - loss: 0.1286"
     ]
    },
    {
     "name": "stderr",
     "output_type": "stream",
     "text": [
      "2025-04-15 14:41:44.255341: I external/local_xla/xla/stream_executor/cuda/subprocess_compilation.cc:346] ptxas warning : Registers are spilled to local memory in function 'input_reduce_select_transpose_fusion', 236 bytes spill stores, 212 bytes spill loads\n",
      "\n"
     ]
    },
    {
     "name": "stdout",
     "output_type": "stream",
     "text": [
      "\u001b[1m11950/11950\u001b[0m \u001b[32m━━━━━━━━━━━━━━━━━━━━\u001b[0m\u001b[37m\u001b[0m \u001b[1m86s\u001b[0m 7ms/step - accuracy: 0.9879 - loss: 0.0508\n",
      "Epoch 2/5\n",
      "\u001b[1m23894/23894\u001b[0m \u001b[32m━━━━━━━━━━━━━━━━━━━━\u001b[0m\u001b[37m\u001b[0m \u001b[1m166s\u001b[0m 7ms/step - accuracy: 0.9907 - loss: 0.0430\n",
      "Epoch 2/5\n",
      "\u001b[1m11950/11950\u001b[0m \u001b[32m━━━━━━━━━━━━━━━━━━━━\u001b[0m\u001b[37m\u001b[0m \u001b[1m80s\u001b[0m 7ms/step - accuracy: 0.9934 - loss: 0.0330\n",
      "Epoch 3/5\n",
      "\u001b[1m35842/35842\u001b[0m \u001b[32m━━━━━━━━━━━━━━━━━━━━\u001b[0m\u001b[37m\u001b[0m \u001b[1m247s\u001b[0m 7ms/step - accuracy: 0.9915 - loss: 0.0388\n",
      "Epoch 2/5\n",
      "\u001b[1m11950/11950\u001b[0m \u001b[32m━━━━━━━━━━━━━━━━━━━━\u001b[0m\u001b[37m\u001b[0m \u001b[1m81s\u001b[0m 7ms/step - accuracy: 0.9924 - loss: 0.0362\n",
      "Epoch 4/5\n",
      "\u001b[1m23894/23894\u001b[0m \u001b[32m━━━━━━━━━━━━━━━━━━━━\u001b[0m\u001b[37m\u001b[0m \u001b[1m161s\u001b[0m 7ms/step - accuracy: 0.9935 - loss: 0.0309\n",
      "Epoch 3/5\n",
      "\u001b[1m11950/11950\u001b[0m \u001b[32m━━━━━━━━━━━━━━━━━━━━\u001b[0m\u001b[37m\u001b[0m \u001b[1m80s\u001b[0m 7ms/step - accuracy: 0.9936 - loss: 0.0301\n",
      "Epoch 5/5\n",
      "\u001b[1m11950/11950\u001b[0m \u001b[32m━━━━━━━━━━━━━━━━━━━━\u001b[0m\u001b[37m\u001b[0m \u001b[1m83s\u001b[0m 7ms/step - accuracy: 0.9941 - loss: 0.0272\n",
      "\u001b[1m23819/35842\u001b[0m \u001b[32m━━━━━━━━━━━━━\u001b[0m\u001b[37m━━━━━━━\u001b[0m \u001b[1m1:22\u001b[0m 7ms/step - accuracy: 0.9945 - loss: 0.0257client_0Come end!\n",
      "\u001b[1m23894/23894\u001b[0m \u001b[32m━━━━━━━━━━━━━━━━━━━━\u001b[0m\u001b[37m\u001b[0m \u001b[1m138s\u001b[0m 6ms/step - accuracy: 0.9940 - loss: 0.0275\n",
      "Epoch 4/5\n",
      "\u001b[1m35842/35842\u001b[0m \u001b[32m━━━━━━━━━━━━━━━━━━━━\u001b[0m\u001b[37m\u001b[0m \u001b[1m219s\u001b[0m 6ms/step - accuracy: 0.9946 - loss: 0.0255\n",
      "Epoch 3/5\n",
      "\u001b[1m23894/23894\u001b[0m \u001b[32m━━━━━━━━━━━━━━━━━━━━\u001b[0m\u001b[37m\u001b[0m \u001b[1m108s\u001b[0m 5ms/step - accuracy: 0.9935 - loss: 0.0298\n",
      "Epoch 5/5\n",
      "\u001b[1m35842/35842\u001b[0m \u001b[32m━━━━━━━━━━━━━━━━━━━━\u001b[0m\u001b[37m\u001b[0m \u001b[1m164s\u001b[0m 5ms/step - accuracy: 0.9957 - loss: 0.0207\n",
      "Epoch 4/5\n",
      "\u001b[1m23894/23894\u001b[0m \u001b[32m━━━━━━━━━━━━━━━━━━━━\u001b[0m\u001b[37m\u001b[0m \u001b[1m109s\u001b[0m 5ms/step - accuracy: 0.9945 - loss: 0.0249\n",
      "\u001b[1m11712/35842\u001b[0m \u001b[32m━━━━━━\u001b[0m\u001b[37m━━━━━━━━━━━━━━\u001b[0m \u001b[1m1:49\u001b[0m 5ms/step - accuracy: 0.9946 - loss: 0.0253client_1Come end!\n",
      "\u001b[1m35842/35842\u001b[0m \u001b[32m━━━━━━━━━━━━━━━━━━━━\u001b[0m\u001b[37m\u001b[0m \u001b[1m228s\u001b[0m 6ms/step - accuracy: 0.9944 - loss: 0.0259\n",
      "Epoch 5/5\n",
      "\u001b[1m35842/35842\u001b[0m \u001b[32m━━━━━━━━━━━━━━━━━━━━\u001b[0m\u001b[37m\u001b[0m \u001b[1m227s\u001b[0m 6ms/step - accuracy: 0.9963 - loss: 0.0173\n",
      "client_2Come end!\n"
     ]
    },
    {
     "name": "stderr",
     "output_type": "stream",
     "text": [
      "/home/th/miniconda3/envs/tf/lib/python3.9/site-packages/keras/src/losses/losses.py:33: SyntaxWarning: In loss categorical_crossentropy, expected y_pred.shape to be (batch_size, num_classes) with num_classes > 1. Received: y_pred.shape=(None, 1). Consider using 'binary_crossentropy' if you only have 2 classes.\n",
      "  return self.fn(y_true, y_pred, **self._fn_kwargs)\n"
     ]
    },
    {
     "name": "stdout",
     "output_type": "stream",
     "text": [
      "\u001b[1m200/200\u001b[0m \u001b[32m━━━━━━━━━━━━━━━━━━━━\u001b[0m\u001b[37m\u001b[0m \u001b[1m9s\u001b[0m 30ms/step - accuracy: 0.9961 - loss: 0.0000e+00\n",
      "\u001b[1m207/600\u001b[0m \u001b[32m━━━━━━\u001b[0m\u001b[37m━━━━━━━━━━━━━━\u001b[0m \u001b[1m12s\u001b[0m 31ms/step - accuracy: 0.9988 - loss: 0.0000e+00"
     ]
    },
    {
     "name": "stderr",
     "output_type": "stream",
     "text": [
      "/home/th/miniconda3/envs/tf/lib/python3.9/site-packages/keras/src/losses/losses.py:33: SyntaxWarning: In loss categorical_crossentropy, expected y_pred.shape to be (batch_size, num_classes) with num_classes > 1. Received: y_pred.shape=(None, 1). Consider using 'binary_crossentropy' if you only have 2 classes.\n",
      "  return self.fn(y_true, y_pred, **self._fn_kwargs)\n"
     ]
    },
    {
     "name": "stdout",
     "output_type": "stream",
     "text": [
      "\u001b[1m400/400\u001b[0m \u001b[32m━━━━━━━━━━━━━━━━━━━━\u001b[0m\u001b[37m\u001b[0m \u001b[1m15s\u001b[0m 29ms/step - accuracy: 0.9939 - loss: 0.0000e+00\n",
      "\u001b[1m190/200\u001b[0m \u001b[32m━━━━━━━━━━━━━━━━━━━\u001b[0m\u001b[37m━\u001b[0m \u001b[1m0s\u001b[0m 25ms/step - accuracy: 0.9891 - loss: 0.0000e+00"
     ]
    },
    {
     "name": "stderr",
     "output_type": "stream",
     "text": [
      "/home/th/miniconda3/envs/tf/lib/python3.9/site-packages/keras/src/losses/losses.py:33: SyntaxWarning: In loss categorical_crossentropy, expected y_pred.shape to be (batch_size, num_classes) with num_classes > 1. Received: y_pred.shape=(None, 1). Consider using 'binary_crossentropy' if you only have 2 classes.\n",
      "  return self.fn(y_true, y_pred, **self._fn_kwargs)\n"
     ]
    },
    {
     "name": "stdout",
     "output_type": "stream",
     "text": [
      "\u001b[1m200/200\u001b[0m \u001b[32m━━━━━━━━━━━━━━━━━━━━\u001b[0m\u001b[37m\u001b[0m \u001b[1m7s\u001b[0m 29ms/step - accuracy: 0.9891 - loss: 0.0000e+00\n",
      "Arguments:  Performance Metrics for client_0 on iteration 2 \n",
      "------------------------------------------- \n",
      "local accuracy: 0.9959816336631775 \n",
      "global accuracy: 0.9888744950294495 \n",
      "local compute time: 0:06:53.036484 \n",
      "Simulated time to receive global weights: 0:18:09.737141 \n",
      " \n",
      "\n",
      "\u001b[1m600/600\u001b[0m \u001b[32m━━━━━━━━━━━━━━━━━━━━\u001b[0m\u001b[37m\u001b[0m \u001b[1m17s\u001b[0m 23ms/step - accuracy: 0.9987 - loss: 0.0000e+00\n",
      "\u001b[1m 47/400\u001b[0m \u001b[32m━━\u001b[0m\u001b[37m━━━━━━━━━━━━━━━━━━\u001b[0m \u001b[1m5s\u001b[0m 16ms/step - accuracy: 0.9899 - loss: 0.0000e+00"
     ]
    },
    {
     "name": "stderr",
     "output_type": "stream",
     "text": [
      "/home/th/miniconda3/envs/tf/lib/python3.9/site-packages/keras/src/losses/losses.py:33: SyntaxWarning: In loss categorical_crossentropy, expected y_pred.shape to be (batch_size, num_classes) with num_classes > 1. Received: y_pred.shape=(None, 1). Consider using 'binary_crossentropy' if you only have 2 classes.\n",
      "  return self.fn(y_true, y_pred, **self._fn_kwargs)\n"
     ]
    },
    {
     "name": "stdout",
     "output_type": "stream",
     "text": [
      "\u001b[1m400/400\u001b[0m \u001b[32m━━━━━━━━━━━━━━━━━━━━\u001b[0m\u001b[37m\u001b[0m \u001b[1m9s\u001b[0m 19ms/step - accuracy: 0.9909 - loss: 0.0000e+00\n",
      "\u001b[1m318/600\u001b[0m \u001b[32m━━━━━━━━━━\u001b[0m\u001b[37m━━━━━━━━━━\u001b[0m \u001b[1m5s\u001b[0m 19ms/step - accuracy: 0.9973 - loss: 0.0000e+00Arguments:  Performance Metrics for client_1 on iteration 2 \n",
      "------------------------------------------- \n",
      "local accuracy: 0.9939863085746765 \n",
      "global accuracy: 0.9909287691116333 \n",
      "local compute time: 0:11:25.452416 \n",
      "Simulated time to receive global weights: 0:18:09.737141 \n",
      " \n",
      "\n",
      "\u001b[1m600/600\u001b[0m \u001b[32m━━━━━━━━━━━━━━━━━━━━\u001b[0m\u001b[37m\u001b[0m \u001b[1m10s\u001b[0m 15ms/step - accuracy: 0.9972 - loss: 0.0000e+00\n",
      "Arguments:  Performance Metrics for client_2 on iteration 2 \n",
      "------------------------------------------- \n",
      "local accuracy: 0.9986702799797058 \n",
      "global accuracy: 0.9972405433654785 \n",
      "local compute time: 0:18:08.210166 \n",
      "Simulated time to receive global weights: 0:18:09.737141 \n",
      " \n",
      "\n",
      "[client_0] :Simulated time for client set() to finish iteration 2: 0:36:19.944304\n",
      "\n",
      "[client_1] :Simulated time for client set() to finish iteration 2: 0:36:19.944304\n",
      "\n",
      "[client_2] :Simulated time for client set() to finish iteration 2: 0:36:19.944304\n",
      "\n",
      "====================================== Kết thúc Iteration 2 ======================================\n",
      "====================================== Đang chạy Iteration 3 ======================================\n",
      "3 Come here!\n",
      "Epoch 1/5\n",
      "3 Come here!\n",
      "Epoch 1/5\n",
      "3 Come here!\n",
      "Epoch 1/5\n",
      "\u001b[1m    3/11950\u001b[0m \u001b[37m━━━━━━━━━━━━━━━━━━━━\u001b[0m \u001b[1m7:03\u001b[0m 35ms/step - accuracy: 0.7025 - loss: 0.5881  "
     ]
    },
    {
     "name": "stderr",
     "output_type": "stream",
     "text": [
      "2025-04-15 15:00:12.565497: I external/local_xla/xla/stream_executor/cuda/subprocess_compilation.cc:346] ptxas warning : Registers are spilled to local memory in function 'input_reduce_select_transpose_fusion', 224 bytes spill stores, 220 bytes spill loads\n",
      "\n",
      "2025-04-15 15:00:12.569675: I external/local_xla/xla/stream_executor/cuda/subprocess_compilation.cc:346] ptxas warning : Registers are spilled to local memory in function 'input_reduce_select_transpose_fusion', 224 bytes spill stores, 220 bytes spill loads\n",
      "\n",
      "2025-04-15 15:00:12.581655: I external/local_xla/xla/stream_executor/cuda/subprocess_compilation.cc:346] ptxas warning : Registers are spilled to local memory in function 'input_reduce_select_transpose_fusion', 236 bytes spill stores, 212 bytes spill loads\n",
      "\n"
     ]
    },
    {
     "name": "stdout",
     "output_type": "stream",
     "text": [
      "\u001b[1m  106/35842\u001b[0m \u001b[37m━━━━━━━━━━━━━━━━━━━━\u001b[0m \u001b[1m18:27\u001b[0m 31ms/step - accuracy: 0.8658 - loss: 0.3319"
     ]
    },
    {
     "name": "stderr",
     "output_type": "stream",
     "text": [
      "2025-04-15 15:00:15.753977: I external/local_xla/xla/stream_executor/cuda/subprocess_compilation.cc:346] ptxas warning : Registers are spilled to local memory in function 'input_reduce_select_transpose_fusion', 276 bytes spill stores, 264 bytes spill loads\n",
      "\n"
     ]
    },
    {
     "name": "stdout",
     "output_type": "stream",
     "text": [
      "\u001b[1m  153/23894\u001b[0m \u001b[37m━━━━━━━━━━━━━━━━━━━━\u001b[0m \u001b[1m9:45\u001b[0m 25ms/step - accuracy: 0.9161 - loss: 0.2533 "
     ]
    },
    {
     "name": "stderr",
     "output_type": "stream",
     "text": [
      "2025-04-15 15:00:16.252335: I external/local_xla/xla/stream_executor/cuda/subprocess_compilation.cc:346] ptxas warning : Registers are spilled to local memory in function 'input_reduce_select_transpose_fusion', 224 bytes spill stores, 220 bytes spill loads\n",
      "\n",
      "2025-04-15 15:00:16.389798: I external/local_xla/xla/stream_executor/cuda/subprocess_compilation.cc:346] ptxas warning : Registers are spilled to local memory in function 'input_reduce_select_transpose_fusion', 276 bytes spill stores, 264 bytes spill loads\n",
      "\n"
     ]
    },
    {
     "name": "stdout",
     "output_type": "stream",
     "text": [
      "\u001b[1m  713/11950\u001b[0m \u001b[32m━\u001b[0m\u001b[37m━━━━━━━━━━━━━━━━━━━\u001b[0m \u001b[1m1:42\u001b[0m 9ms/step - accuracy: 0.9615 - loss: 0.1288"
     ]
    },
    {
     "name": "stderr",
     "output_type": "stream",
     "text": [
      "2025-04-15 15:00:19.001197: I external/local_xla/xla/stream_executor/cuda/subprocess_compilation.cc:346] ptxas warning : Registers are spilled to local memory in function 'input_reduce_select_transpose_fusion', 236 bytes spill stores, 212 bytes spill loads\n",
      "\n"
     ]
    },
    {
     "name": "stdout",
     "output_type": "stream",
     "text": [
      "\u001b[1m  953/11950\u001b[0m \u001b[32m━\u001b[0m\u001b[37m━━━━━━━━━━━━━━━━━━━\u001b[0m \u001b[1m1:35\u001b[0m 9ms/step - accuracy: 0.9674 - loss: 0.1122"
     ]
    },
    {
     "name": "stderr",
     "output_type": "stream",
     "text": [
      "2025-04-15 15:00:20.753779: I external/local_xla/xla/stream_executor/cuda/subprocess_compilation.cc:346] ptxas warning : Registers are spilled to local memory in function 'input_reduce_select_transpose_fusion', 276 bytes spill stores, 264 bytes spill loads\n",
      "\n"
     ]
    },
    {
     "name": "stdout",
     "output_type": "stream",
     "text": [
      "\u001b[1m 1155/11950\u001b[0m \u001b[32m━\u001b[0m\u001b[37m━━━━━━━━━━━━━━━━━━━\u001b[0m \u001b[1m1:41\u001b[0m 9ms/step - accuracy: 0.9707 - loss: 0.1028"
     ]
    },
    {
     "name": "stderr",
     "output_type": "stream",
     "text": [
      "2025-04-15 15:00:23.303510: I external/local_xla/xla/stream_executor/cuda/subprocess_compilation.cc:346] ptxas warning : Registers are spilled to local memory in function 'input_reduce_select_transpose_fusion', 236 bytes spill stores, 212 bytes spill loads\n",
      "\n"
     ]
    },
    {
     "name": "stdout",
     "output_type": "stream",
     "text": [
      "\u001b[1m11950/11950\u001b[0m \u001b[32m━━━━━━━━━━━━━━━━━━━━\u001b[0m\u001b[37m\u001b[0m \u001b[1m91s\u001b[0m 7ms/step - accuracy: 0.9895 - loss: 0.0471\n",
      "\u001b[1m12013/23894\u001b[0m \u001b[32m━━━━━━━━━━\u001b[0m\u001b[37m━━━━━━━━━━\u001b[0m \u001b[1m1:25\u001b[0m 7ms/step - accuracy: 0.9911 - loss: 0.0422Epoch 2/5\n",
      "\u001b[1m23894/23894\u001b[0m \u001b[32m━━━━━━━━━━━━━━━━━━━━\u001b[0m\u001b[37m\u001b[0m \u001b[1m181s\u001b[0m 7ms/step - accuracy: 0.9923 - loss: 0.0376\n",
      "Epoch 2/5\n",
      "\u001b[1m11950/11950\u001b[0m \u001b[32m━━━━━━━━━━━━━━━━━━━━\u001b[0m\u001b[37m\u001b[0m \u001b[1m90s\u001b[0m 8ms/step - accuracy: 0.9937 - loss: 0.0316\n",
      "Epoch 3/5\n",
      "\u001b[1m35842/35842\u001b[0m \u001b[32m━━━━━━━━━━━━━━━━━━━━\u001b[0m\u001b[37m\u001b[0m \u001b[1m270s\u001b[0m 7ms/step - accuracy: 0.9919 - loss: 0.0376\n",
      "\u001b[1m11894/11950\u001b[0m \u001b[32m━━━━━━━━━━━━━━━━━━━\u001b[0m\u001b[37m━\u001b[0m \u001b[1m0s\u001b[0m 7ms/step - accuracy: 0.9948 - loss: 0.0258Epoch 2/5\n",
      "\u001b[1m11950/11950\u001b[0m \u001b[32m━━━━━━━━━━━━━━━━━━━━\u001b[0m\u001b[37m\u001b[0m \u001b[1m88s\u001b[0m 7ms/step - accuracy: 0.9948 - loss: 0.0258\n",
      "Epoch 4/5\n",
      "\u001b[1m23894/23894\u001b[0m \u001b[32m━━━━━━━━━━━━━━━━━━━━\u001b[0m\u001b[37m\u001b[0m \u001b[1m174s\u001b[0m 7ms/step - accuracy: 0.9937 - loss: 0.0303\n",
      "Epoch 3/5\n",
      "\u001b[1m11950/11950\u001b[0m \u001b[32m━━━━━━━━━━━━━━━━━━━━\u001b[0m\u001b[37m\u001b[0m \u001b[1m85s\u001b[0m 7ms/step - accuracy: 0.9941 - loss: 0.0282\n",
      "Epoch 5/5\n",
      "\u001b[1m11950/11950\u001b[0m \u001b[32m━━━━━━━━━━━━━━━━━━━━\u001b[0m\u001b[37m\u001b[0m \u001b[1m84s\u001b[0m 7ms/step - accuracy: 0.9943 - loss: 0.0273\n",
      "\u001b[1m23866/35842\u001b[0m \u001b[32m━━━━━━━━━━━━━\u001b[0m\u001b[37m━━━━━━━\u001b[0m \u001b[1m1:25\u001b[0m 7ms/step - accuracy: 0.9934 - loss: 0.0309client_0Come end!\n",
      "\u001b[1m23894/23894\u001b[0m \u001b[32m━━━━━━━━━━━━━━━━━━━━\u001b[0m\u001b[37m\u001b[0m \u001b[1m140s\u001b[0m 6ms/step - accuracy: 0.9933 - loss: 0.0315\n",
      "Epoch 4/5\n",
      "\u001b[1m35842/35842\u001b[0m \u001b[32m━━━━━━━━━━━━━━━━━━━━\u001b[0m\u001b[37m\u001b[0m \u001b[1m226s\u001b[0m 6ms/step - accuracy: 0.9935 - loss: 0.0302\n",
      "Epoch 3/5\n",
      "\u001b[1m23894/23894\u001b[0m \u001b[32m━━━━━━━━━━━━━━━━━━━━\u001b[0m\u001b[37m\u001b[0m \u001b[1m118s\u001b[0m 5ms/step - accuracy: 0.9939 - loss: 0.0279\n",
      "Epoch 5/5\n",
      "\u001b[1m35842/35842\u001b[0m \u001b[32m━━━━━━━━━━━━━━━━━━━━\u001b[0m\u001b[37m\u001b[0m \u001b[1m175s\u001b[0m 5ms/step - accuracy: 0.9952 - loss: 0.0222\n",
      "Epoch 4/5\n",
      "\u001b[1m23894/23894\u001b[0m \u001b[32m━━━━━━━━━━━━━━━━━━━━\u001b[0m\u001b[37m\u001b[0m \u001b[1m116s\u001b[0m 5ms/step - accuracy: 0.9942 - loss: 0.0268\n",
      "\u001b[1m12302/35842\u001b[0m \u001b[32m━━━━━━\u001b[0m\u001b[37m━━━━━━━━━━━━━━\u001b[0m \u001b[1m1:53\u001b[0m 5ms/step - accuracy: 0.9967 - loss: 0.0169client_1Come end!\n",
      "\u001b[1m35842/35842\u001b[0m \u001b[32m━━━━━━━━━━━━━━━━━━━━\u001b[0m\u001b[37m\u001b[0m \u001b[1m215s\u001b[0m 6ms/step - accuracy: 0.9969 - loss: 0.0153\n",
      "Epoch 5/5\n",
      "\u001b[1m35842/35842\u001b[0m \u001b[32m━━━━━━━━━━━━━━━━━━━━\u001b[0m\u001b[37m\u001b[0m \u001b[1m245s\u001b[0m 7ms/step - accuracy: 0.9971 - loss: 0.0142\n",
      "client_2Come end!\n"
     ]
    },
    {
     "name": "stderr",
     "output_type": "stream",
     "text": [
      "/home/th/miniconda3/envs/tf/lib/python3.9/site-packages/keras/src/losses/losses.py:33: SyntaxWarning: In loss categorical_crossentropy, expected y_pred.shape to be (batch_size, num_classes) with num_classes > 1. Received: y_pred.shape=(None, 1). Consider using 'binary_crossentropy' if you only have 2 classes.\n",
      "  return self.fn(y_true, y_pred, **self._fn_kwargs)\n"
     ]
    },
    {
     "name": "stdout",
     "output_type": "stream",
     "text": [
      "\u001b[1m200/200\u001b[0m \u001b[32m━━━━━━━━━━━━━━━━━━━━\u001b[0m\u001b[37m\u001b[0m \u001b[1m8s\u001b[0m 30ms/step - accuracy: 0.9935 - loss: 0.0000e+00\n",
      "\u001b[1m210/600\u001b[0m \u001b[32m━━━━━━━\u001b[0m\u001b[37m━━━━━━━━━━━━━\u001b[0m \u001b[1m11s\u001b[0m 30ms/step - accuracy: 0.9994 - loss: 0.0000e+00"
     ]
    },
    {
     "name": "stderr",
     "output_type": "stream",
     "text": [
      "/home/th/miniconda3/envs/tf/lib/python3.9/site-packages/keras/src/losses/losses.py:33: SyntaxWarning: In loss categorical_crossentropy, expected y_pred.shape to be (batch_size, num_classes) with num_classes > 1. Received: y_pred.shape=(None, 1). Consider using 'binary_crossentropy' if you only have 2 classes.\n",
      "  return self.fn(y_true, y_pred, **self._fn_kwargs)\n"
     ]
    },
    {
     "name": "stdout",
     "output_type": "stream",
     "text": [
      "\u001b[1m400/400\u001b[0m \u001b[32m━━━━━━━━━━━━━━━━━━━━\u001b[0m\u001b[37m\u001b[0m \u001b[1m14s\u001b[0m 28ms/step - accuracy: 0.9945 - loss: 0.0000e+00\n",
      "\u001b[1m192/200\u001b[0m \u001b[32m━━━━━━━━━━━━━━━━━━━\u001b[0m\u001b[37m━\u001b[0m \u001b[1m0s\u001b[0m 28ms/step - accuracy: 0.9887 - loss: 0.0000e+00"
     ]
    },
    {
     "name": "stderr",
     "output_type": "stream",
     "text": [
      "/home/th/miniconda3/envs/tf/lib/python3.9/site-packages/keras/src/losses/losses.py:33: SyntaxWarning: In loss categorical_crossentropy, expected y_pred.shape to be (batch_size, num_classes) with num_classes > 1. Received: y_pred.shape=(None, 1). Consider using 'binary_crossentropy' if you only have 2 classes.\n",
      "  return self.fn(y_true, y_pred, **self._fn_kwargs)\n"
     ]
    },
    {
     "name": "stdout",
     "output_type": "stream",
     "text": [
      "\u001b[1m200/200\u001b[0m \u001b[32m━━━━━━━━━━━━━━━━━━━━\u001b[0m\u001b[37m\u001b[0m \u001b[1m8s\u001b[0m 36ms/step - accuracy: 0.9886 - loss: 0.0000e+00\n",
      "Arguments:  Performance Metrics for client_0 on iteration 3 \n",
      "------------------------------------------- \n",
      "local accuracy: 0.9933866262435913 \n",
      "global accuracy: 0.9883806705474854 \n",
      "local compute time: 0:07:23.053061 \n",
      "Simulated time to receive global weights: 0:18:55.311059 \n",
      " \n",
      "\n",
      "\u001b[1m600/600\u001b[0m \u001b[32m━━━━━━━━━━━━━━━━━━━━\u001b[0m\u001b[37m\u001b[0m \u001b[1m18s\u001b[0m 25ms/step - accuracy: 0.9994 - loss: 0.0000e+00\n",
      "\u001b[1m 62/400\u001b[0m \u001b[32m━━━\u001b[0m\u001b[37m━━━━━━━━━━━━━━━━━\u001b[0m \u001b[1m4s\u001b[0m 14ms/step - accuracy: 0.9916 - loss: 0.0000e+00"
     ]
    },
    {
     "name": "stderr",
     "output_type": "stream",
     "text": [
      "/home/th/miniconda3/envs/tf/lib/python3.9/site-packages/keras/src/losses/losses.py:33: SyntaxWarning: In loss categorical_crossentropy, expected y_pred.shape to be (batch_size, num_classes) with num_classes > 1. Received: y_pred.shape=(None, 1). Consider using 'binary_crossentropy' if you only have 2 classes.\n",
      "  return self.fn(y_true, y_pred, **self._fn_kwargs)\n"
     ]
    },
    {
     "name": "stdout",
     "output_type": "stream",
     "text": [
      "\u001b[1m400/400\u001b[0m \u001b[32m━━━━━━━━━━━━━━━━━━━━\u001b[0m\u001b[37m\u001b[0m \u001b[1m10s\u001b[0m 20ms/step - accuracy: 0.9924 - loss: 0.0000e+00\n",
      "\u001b[1m281/600\u001b[0m \u001b[32m━━━━━━━━━\u001b[0m\u001b[37m━━━━━━━━━━━\u001b[0m \u001b[1m6s\u001b[0m 22ms/step - accuracy: 0.9993 - loss: 0.0000e+00Arguments:  Performance Metrics for client_1 on iteration 3 \n",
      "------------------------------------------- \n",
      "local accuracy: 0.9945901036262512 \n",
      "global accuracy: 0.9925082325935364 \n",
      "local compute time: 0:12:13.217766 \n",
      "Simulated time to receive global weights: 0:18:55.311059 \n",
      " \n",
      "\n",
      "\u001b[1m600/600\u001b[0m \u001b[32m━━━━━━━━━━━━━━━━━━━━\u001b[0m\u001b[37m\u001b[0m \u001b[1m11s\u001b[0m 17ms/step - accuracy: 0.9992 - loss: 0.0000e+00\n",
      "Arguments:  Performance Metrics for client_2 on iteration 3 \n",
      "------------------------------------------- \n",
      "local accuracy: 0.9993480443954468 \n",
      "global accuracy: 0.999102771282196 \n",
      "local compute time: 0:18:54.266307 \n",
      "Simulated time to receive global weights: 0:18:55.311059 \n",
      " \n",
      "\n",
      "[client_0] :Simulated time for client set() to finish iteration 3: 0:37:51.092141\n",
      "\n",
      "[client_1] :Simulated time for client set() to finish iteration 3: 0:37:51.092141\n",
      "\n",
      "[client_2] :Simulated time for client set() to finish iteration 3: 0:37:51.092141\n",
      "\n",
      "====================================== Kết thúc Iteration 3 ======================================\n",
      "====================================== Đang chạy Iteration 4 ======================================\n",
      "4 Come here!\n",
      "Epoch 1/5\n",
      "4 Come here!\n",
      "Epoch 1/5\n",
      "4 Come here!\n",
      "Epoch 1/5\n",
      "\u001b[1m    3/35842\u001b[0m \u001b[37m━━━━━━━━━━━━━━━━━━━━\u001b[0m \u001b[1m19:46\u001b[0m 33ms/step - accuracy: 0.7680 - loss: 0.5282 "
     ]
    },
    {
     "name": "stderr",
     "output_type": "stream",
     "text": [
      "2025-04-15 15:19:39.320162: I external/local_xla/xla/stream_executor/cuda/subprocess_compilation.cc:346] ptxas warning : Registers are spilled to local memory in function 'input_reduce_select_transpose_fusion', 224 bytes spill stores, 220 bytes spill loads\n",
      "\n",
      "2025-04-15 15:19:39.320287: I external/local_xla/xla/stream_executor/cuda/subprocess_compilation.cc:346] ptxas warning : Registers are spilled to local memory in function 'input_reduce_select_transpose_fusion', 224 bytes spill stores, 220 bytes spill loads\n",
      "\n",
      "2025-04-15 15:19:39.320380: I external/local_xla/xla/stream_executor/cuda/subprocess_compilation.cc:346] ptxas warning : Registers are spilled to local memory in function 'input_reduce_select_transpose_fusion', 236 bytes spill stores, 212 bytes spill loads\n",
      "\n"
     ]
    },
    {
     "name": "stdout",
     "output_type": "stream",
     "text": [
      "\u001b[1m   99/35842\u001b[0m \u001b[37m━━━━━━━━━━━━━━━━━━━━\u001b[0m \u001b[1m13:38\u001b[0m 23ms/step - accuracy: 0.8882 - loss: 0.2941"
     ]
    },
    {
     "name": "stderr",
     "output_type": "stream",
     "text": [
      "2025-04-15 15:19:41.490683: I external/local_xla/xla/stream_executor/cuda/subprocess_compilation.cc:346] ptxas warning : Registers are spilled to local memory in function 'input_reduce_select_transpose_fusion', 276 bytes spill stores, 264 bytes spill loads\n",
      "\n"
     ]
    },
    {
     "name": "stdout",
     "output_type": "stream",
     "text": [
      "\u001b[1m  169/35842\u001b[0m \u001b[37m━━━━━━━━━━━━━━━━━━━━\u001b[0m \u001b[1m8:51\u001b[0m 15ms/step - accuracy: 0.9175 - loss: 0.2331"
     ]
    },
    {
     "name": "stderr",
     "output_type": "stream",
     "text": [
      "2025-04-15 15:19:41.741279: I external/local_xla/xla/stream_executor/cuda/subprocess_compilation.cc:346] ptxas warning : Registers are spilled to local memory in function 'input_reduce_select_transpose_fusion', 224 bytes spill stores, 220 bytes spill loads\n",
      "\n"
     ]
    },
    {
     "name": "stdout",
     "output_type": "stream",
     "text": [
      "\u001b[1m  263/35842\u001b[0m \u001b[37m━━━━━━━━━━━━━━━━━━━━\u001b[0m \u001b[1m6:36\u001b[0m 11ms/step - accuracy: 0.9362 - loss: 0.1898"
     ]
    },
    {
     "name": "stderr",
     "output_type": "stream",
     "text": [
      "2025-04-15 15:19:42.148141: I external/local_xla/xla/stream_executor/cuda/subprocess_compilation.cc:346] ptxas warning : Registers are spilled to local memory in function 'input_reduce_select_transpose_fusion', 276 bytes spill stores, 264 bytes spill loads\n",
      "\n"
     ]
    },
    {
     "name": "stdout",
     "output_type": "stream",
     "text": [
      "\u001b[1m  473/11950\u001b[0m \u001b[37m━━━━━━━━━━━━━━━━━━━━\u001b[0m \u001b[1m3:11\u001b[0m 17ms/step - accuracy: 0.9678 - loss: 0.1218"
     ]
    },
    {
     "name": "stderr",
     "output_type": "stream",
     "text": [
      "2025-04-15 15:19:47.139440: I external/local_xla/xla/stream_executor/cuda/subprocess_compilation.cc:346] ptxas warning : Registers are spilled to local memory in function 'input_reduce_select_transpose_fusion', 236 bytes spill stores, 212 bytes spill loads\n",
      "\n"
     ]
    },
    {
     "name": "stdout",
     "output_type": "stream",
     "text": [
      "\u001b[1m  928/11950\u001b[0m \u001b[32m━\u001b[0m\u001b[37m━━━━━━━━━━━━━━━━━━━\u001b[0m \u001b[1m2:06\u001b[0m 11ms/step - accuracy: 0.9768 - loss: 0.0929"
     ]
    },
    {
     "name": "stderr",
     "output_type": "stream",
     "text": [
      "2025-04-15 15:19:49.864091: I external/local_xla/xla/stream_executor/cuda/subprocess_compilation.cc:346] ptxas warning : Registers are spilled to local memory in function 'input_reduce_select_transpose_fusion', 276 bytes spill stores, 264 bytes spill loads\n",
      "\n"
     ]
    },
    {
     "name": "stdout",
     "output_type": "stream",
     "text": [
      "\u001b[1m 1426/35842\u001b[0m \u001b[37m━━━━━━━━━━━━━━━━━━━━\u001b[0m \u001b[1m5:51\u001b[0m 10ms/step - accuracy: 0.9746 - loss: 0.0903"
     ]
    },
    {
     "name": "stderr",
     "output_type": "stream",
     "text": [
      "2025-04-15 15:19:53.765469: I external/local_xla/xla/stream_executor/cuda/subprocess_compilation.cc:346] ptxas warning : Registers are spilled to local memory in function 'input_reduce_select_transpose_fusion', 236 bytes spill stores, 212 bytes spill loads\n",
      "\n"
     ]
    },
    {
     "name": "stdout",
     "output_type": "stream",
     "text": [
      "\u001b[1m11950/11950\u001b[0m \u001b[32m━━━━━━━━━━━━━━━━━━━━\u001b[0m\u001b[37m\u001b[0m \u001b[1m96s\u001b[0m 8ms/step - accuracy: 0.9909 - loss: 0.0433\n",
      "Epoch 2/5\n",
      "\u001b[1m23894/23894\u001b[0m \u001b[32m━━━━━━━━━━━━━━━━━━━━\u001b[0m\u001b[37m\u001b[0m \u001b[1m181s\u001b[0m 7ms/step - accuracy: 0.9913 - loss: 0.0407\n",
      "Epoch 2/5\n",
      "\u001b[1m11950/11950\u001b[0m \u001b[32m━━━━━━━━━━━━━━━━━━━━\u001b[0m\u001b[37m\u001b[0m \u001b[1m86s\u001b[0m 7ms/step - accuracy: 0.9944 - loss: 0.0284\n",
      "Epoch 3/5\n",
      "\u001b[1m35842/35842\u001b[0m \u001b[32m━━━━━━━━━━━━━━━━━━━━\u001b[0m\u001b[37m\u001b[0m \u001b[1m262s\u001b[0m 7ms/step - accuracy: 0.9925 - loss: 0.0357\n",
      "Epoch 2/5\n",
      "\u001b[1m11950/11950\u001b[0m \u001b[32m━━━━━━━━━━━━━━━━━━━━\u001b[0m\u001b[37m\u001b[0m \u001b[1m83s\u001b[0m 7ms/step - accuracy: 0.9933 - loss: 0.0327\n",
      "Epoch 4/5\n",
      "\u001b[1m23894/23894\u001b[0m \u001b[32m━━━━━━━━━━━━━━━━━━━━\u001b[0m\u001b[37m\u001b[0m \u001b[1m165s\u001b[0m 7ms/step - accuracy: 0.9923 - loss: 0.0362\n",
      "Epoch 3/5\n",
      "\u001b[1m11950/11950\u001b[0m \u001b[32m━━━━━━━━━━━━━━━━━━━━\u001b[0m\u001b[37m\u001b[0m \u001b[1m86s\u001b[0m 7ms/step - accuracy: 0.9933 - loss: 0.0323\n",
      "Epoch 5/5\n",
      "\u001b[1m11950/11950\u001b[0m \u001b[32m━━━━━━━━━━━━━━━━━━━━\u001b[0m\u001b[37m\u001b[0m \u001b[1m90s\u001b[0m 8ms/step - accuracy: 0.9937 - loss: 0.0296\n",
      "\u001b[1m24296/35842\u001b[0m \u001b[32m━━━━━━━━━━━━━\u001b[0m\u001b[37m━━━━━━━\u001b[0m \u001b[1m1:24\u001b[0m 7ms/step - accuracy: 0.9943 - loss: 0.0268client_0Come end!\n",
      "\u001b[1m35842/35842\u001b[0m \u001b[32m━━━━━━━━━━━━━━━━━━━━\u001b[0m\u001b[37m\u001b[0m \u001b[1m236s\u001b[0m 7ms/step - accuracy: 0.9943 - loss: 0.0269\n",
      "Epoch 3/5\n",
      "\u001b[1m23894/23894\u001b[0m \u001b[32m━━━━━━━━━━━━━━━━━━━━\u001b[0m\u001b[37m\u001b[0m \u001b[1m152s\u001b[0m 6ms/step - accuracy: 0.9927 - loss: 0.0337\n",
      "Epoch 4/5\n",
      "\u001b[1m23894/23894\u001b[0m \u001b[32m━━━━━━━━━━━━━━━━━━━━\u001b[0m\u001b[37m\u001b[0m \u001b[1m120s\u001b[0m 5ms/step - accuracy: 0.9932 - loss: 0.0313\n",
      "Epoch 5/5\n",
      "\u001b[1m35842/35842\u001b[0m \u001b[32m━━━━━━━━━━━━━━━━━━━━\u001b[0m\u001b[37m\u001b[0m \u001b[1m177s\u001b[0m 5ms/step - accuracy: 0.9949 - loss: 0.0235\n",
      "Epoch 4/5\n",
      "\u001b[1m23894/23894\u001b[0m \u001b[32m━━━━━━━━━━━━━━━━━━━━\u001b[0m\u001b[37m\u001b[0m \u001b[1m119s\u001b[0m 5ms/step - accuracy: 0.9945 - loss: 0.0253\n",
      "\u001b[1m13166/35842\u001b[0m \u001b[32m━━━━━━━\u001b[0m\u001b[37m━━━━━━━━━━━━━\u001b[0m \u001b[1m1:47\u001b[0m 5ms/step - accuracy: 0.9962 - loss: 0.0181client_1Come end!\n",
      "\u001b[1m35842/35842\u001b[0m \u001b[32m━━━━━━━━━━━━━━━━━━━━\u001b[0m\u001b[37m\u001b[0m \u001b[1m187s\u001b[0m 5ms/step - accuracy: 0.9965 - loss: 0.0168\n",
      "Epoch 5/5\n",
      "\u001b[1m35842/35842\u001b[0m \u001b[32m━━━━━━━━━━━━━━━━━━━━\u001b[0m\u001b[37m\u001b[0m \u001b[1m197s\u001b[0m 5ms/step - accuracy: 0.9948 - loss: 0.0233\n",
      "client_2Come end!\n"
     ]
    },
    {
     "name": "stderr",
     "output_type": "stream",
     "text": [
      "/home/th/miniconda3/envs/tf/lib/python3.9/site-packages/keras/src/losses/losses.py:33: SyntaxWarning: In loss categorical_crossentropy, expected y_pred.shape to be (batch_size, num_classes) with num_classes > 1. Received: y_pred.shape=(None, 1). Consider using 'binary_crossentropy' if you only have 2 classes.\n",
      "  return self.fn(y_true, y_pred, **self._fn_kwargs)\n"
     ]
    },
    {
     "name": "stdout",
     "output_type": "stream",
     "text": [
      "\u001b[1m200/200\u001b[0m \u001b[32m━━━━━━━━━━━━━━━━━━━━\u001b[0m\u001b[37m\u001b[0m \u001b[1m8s\u001b[0m 25ms/step - accuracy: 0.9935 - loss: 0.0000e+00\n"
     ]
    },
    {
     "name": "stderr",
     "output_type": "stream",
     "text": [
      "/home/th/miniconda3/envs/tf/lib/python3.9/site-packages/keras/src/losses/losses.py:33: SyntaxWarning: In loss categorical_crossentropy, expected y_pred.shape to be (batch_size, num_classes) with num_classes > 1. Received: y_pred.shape=(None, 1). Consider using 'binary_crossentropy' if you only have 2 classes.\n",
      "  return self.fn(y_true, y_pred, **self._fn_kwargs)\n"
     ]
    },
    {
     "name": "stdout",
     "output_type": "stream",
     "text": [
      "\u001b[1m400/400\u001b[0m \u001b[32m━━━━━━━━━━━━━━━━━━━━\u001b[0m\u001b[37m\u001b[0m \u001b[1m14s\u001b[0m 27ms/step - accuracy: 0.9951 - loss: 0.0000e+00\n",
      "\u001b[1m181/200\u001b[0m \u001b[32m━━━━━━━━━━━━━━━━━━\u001b[0m\u001b[37m━━\u001b[0m \u001b[1m0s\u001b[0m 30ms/step - accuracy: 0.9898 - loss: 0.0000e+00"
     ]
    },
    {
     "name": "stderr",
     "output_type": "stream",
     "text": [
      "/home/th/miniconda3/envs/tf/lib/python3.9/site-packages/keras/src/losses/losses.py:33: SyntaxWarning: In loss categorical_crossentropy, expected y_pred.shape to be (batch_size, num_classes) with num_classes > 1. Received: y_pred.shape=(None, 1). Consider using 'binary_crossentropy' if you only have 2 classes.\n",
      "  return self.fn(y_true, y_pred, **self._fn_kwargs)\n"
     ]
    },
    {
     "name": "stdout",
     "output_type": "stream",
     "text": [
      "\u001b[1m200/200\u001b[0m \u001b[32m━━━━━━━━━━━━━━━━━━━━\u001b[0m\u001b[37m\u001b[0m \u001b[1m9s\u001b[0m 39ms/step - accuracy: 0.9898 - loss: 0.0000e+00\n",
      "Arguments:  Performance Metrics for client_0 on iteration 4 \n",
      "------------------------------------------- \n",
      "local accuracy: 0.9935125112533569 \n",
      "global accuracy: 0.989658772945404 \n",
      "local compute time: 0:07:21.766721 \n",
      "Simulated time to receive global weights: 0:17:41.548405 \n",
      " \n",
      "\n",
      "\u001b[1m600/600\u001b[0m \u001b[32m━━━━━━━━━━━━━━━━━━━━\u001b[0m\u001b[37m\u001b[0m \u001b[1m19s\u001b[0m 26ms/step - accuracy: 0.9953 - loss: 0.0000e+00\n",
      "\u001b[1m 75/400\u001b[0m \u001b[32m━━━\u001b[0m\u001b[37m━━━━━━━━━━━━━━━━━\u001b[0m \u001b[1m8s\u001b[0m 25ms/step - accuracy: 0.9929 - loss: 0.0000e+00"
     ]
    },
    {
     "name": "stderr",
     "output_type": "stream",
     "text": [
      "/home/th/miniconda3/envs/tf/lib/python3.9/site-packages/keras/src/losses/losses.py:33: SyntaxWarning: In loss categorical_crossentropy, expected y_pred.shape to be (batch_size, num_classes) with num_classes > 1. Received: y_pred.shape=(None, 1). Consider using 'binary_crossentropy' if you only have 2 classes.\n",
      "  return self.fn(y_true, y_pred, **self._fn_kwargs)\n"
     ]
    },
    {
     "name": "stdout",
     "output_type": "stream",
     "text": [
      "\u001b[1m400/400\u001b[0m \u001b[32m━━━━━━━━━━━━━━━━━━━━\u001b[0m\u001b[37m\u001b[0m \u001b[1m11s\u001b[0m 21ms/step - accuracy: 0.9936 - loss: 0.0000e+00\n",
      "\u001b[1m256/600\u001b[0m \u001b[32m━━━━━━━━\u001b[0m\u001b[37m━━━━━━━━━━━━\u001b[0m \u001b[1m7s\u001b[0m 23ms/step - accuracy: 0.9931 - loss: 0.0000e+00Arguments:  Performance Metrics for client_1 on iteration 4 \n",
      "------------------------------------------- \n",
      "local accuracy: 0.9950876235961914 \n",
      "global accuracy: 0.993710994720459 \n",
      "local compute time: 0:12:18.855894 \n",
      "Simulated time to receive global weights: 0:17:41.548405 \n",
      " \n",
      "\n",
      "\u001b[1m600/600\u001b[0m \u001b[32m━━━━━━━━━━━━━━━━━━━━\u001b[0m\u001b[37m\u001b[0m \u001b[1m12s\u001b[0m 18ms/step - accuracy: 0.9928 - loss: 0.0000e+00\n",
      "Arguments:  Performance Metrics for client_2 on iteration 4 \n",
      "------------------------------------------- \n",
      "local accuracy: 0.9952427744865417 \n",
      "global accuracy: 0.9925995469093323 \n",
      "local compute time: 0:17:40.368438 \n",
      "Simulated time to receive global weights: 0:17:41.548405 \n",
      " \n",
      "\n",
      "[client_0] :Simulated time for client set() to finish iteration 4: 0:35:23.566833\n",
      "\n",
      "[client_1] :Simulated time for client set() to finish iteration 4: 0:35:23.566833\n",
      "\n",
      "[client_2] :Simulated time for client set() to finish iteration 4: 0:35:23.566833\n",
      "\n",
      "====================================== Kết thúc Iteration 4 ======================================\n",
      "====================================== Đang chạy Iteration 5 ======================================\n",
      "5 Come here!\n",
      "Epoch 1/5\n",
      "5 Come here!\n",
      "Epoch 1/5\n",
      "5 Come here!\n",
      "Epoch 1/5\n",
      "\u001b[1m    1/11950\u001b[0m \u001b[37m━━━━━━━━━━━━━━━━━━━━\u001b[0m \u001b[1m16:03:37\u001b[0m 5s/step - accuracy: 0.8538 - loss: 0.3379"
     ]
    },
    {
     "name": "stderr",
     "output_type": "stream",
     "text": [
      "2025-04-15 15:37:51.672491: I external/local_xla/xla/stream_executor/cuda/subprocess_compilation.cc:346] ptxas warning : Registers are spilled to local memory in function 'input_reduce_select_transpose_fusion', 224 bytes spill stores, 220 bytes spill loads\n",
      "\n",
      "2025-04-15 15:37:51.676577: I external/local_xla/xla/stream_executor/cuda/subprocess_compilation.cc:346] ptxas warning : Registers are spilled to local memory in function 'input_reduce_select_transpose_fusion', 224 bytes spill stores, 220 bytes spill loads\n",
      "\n",
      "2025-04-15 15:37:51.710937: I external/local_xla/xla/stream_executor/cuda/subprocess_compilation.cc:346] ptxas warning : Registers are spilled to local memory in function 'input_reduce_select_transpose_fusion', 236 bytes spill stores, 212 bytes spill loads\n",
      "\n"
     ]
    },
    {
     "name": "stdout",
     "output_type": "stream",
     "text": [
      "\u001b[1m  118/35842\u001b[0m \u001b[37m━━━━━━━━━━━━━━━━━━━━\u001b[0m \u001b[1m12:09\u001b[0m 20ms/step - accuracy: 0.9204 - loss: 0.2403"
     ]
    },
    {
     "name": "stderr",
     "output_type": "stream",
     "text": [
      "2025-04-15 15:37:54.059262: I external/local_xla/xla/stream_executor/cuda/subprocess_compilation.cc:346] ptxas warning : Registers are spilled to local memory in function 'input_reduce_select_transpose_fusion', 276 bytes spill stores, 264 bytes spill loads\n",
      "\n"
     ]
    },
    {
     "name": "stdout",
     "output_type": "stream",
     "text": [
      "\u001b[1m  155/23894\u001b[0m \u001b[37m━━━━━━━━━━━━━━━━━━━━\u001b[0m \u001b[1m6:44\u001b[0m 17ms/step - accuracy: 0.9470 - loss: 0.1847"
     ]
    },
    {
     "name": "stderr",
     "output_type": "stream",
     "text": [
      "2025-04-15 15:37:54.296775: I external/local_xla/xla/stream_executor/cuda/subprocess_compilation.cc:346] ptxas warning : Registers are spilled to local memory in function 'input_reduce_select_transpose_fusion', 224 bytes spill stores, 220 bytes spill loads\n",
      "\n"
     ]
    },
    {
     "name": "stdout",
     "output_type": "stream",
     "text": [
      "\u001b[1m  311/11950\u001b[0m \u001b[37m━━━━━━━━━━━━━━━━━━━━\u001b[0m \u001b[1m1:55\u001b[0m 10ms/step - accuracy: 0.9741 - loss: 0.1196"
     ]
    },
    {
     "name": "stderr",
     "output_type": "stream",
     "text": [
      "2025-04-15 15:37:54.747098: I external/local_xla/xla/stream_executor/cuda/subprocess_compilation.cc:346] ptxas warning : Registers are spilled to local memory in function 'input_reduce_select_transpose_fusion', 276 bytes spill stores, 264 bytes spill loads\n",
      "\n"
     ]
    },
    {
     "name": "stdout",
     "output_type": "stream",
     "text": [
      "\u001b[1m  397/35842\u001b[0m \u001b[37m━━━━━━━━━━━━━━━━━━━━\u001b[0m \u001b[1m10:52\u001b[0m 18ms/step - accuracy: 0.9593 - loss: 0.1405"
     ]
    },
    {
     "name": "stderr",
     "output_type": "stream",
     "text": [
      "2025-04-15 15:37:58.941506: I external/local_xla/xla/stream_executor/cuda/subprocess_compilation.cc:346] ptxas warning : Registers are spilled to local memory in function 'input_reduce_select_transpose_fusion', 236 bytes spill stores, 212 bytes spill loads\n",
      "\n"
     ]
    },
    {
     "name": "stdout",
     "output_type": "stream",
     "text": [
      "\u001b[1m  883/11950\u001b[0m \u001b[32m━\u001b[0m\u001b[37m━━━━━━━━━━━━━━━━━━━\u001b[0m \u001b[1m2:02\u001b[0m 11ms/step - accuracy: 0.9841 - loss: 0.0770"
     ]
    },
    {
     "name": "stderr",
     "output_type": "stream",
     "text": [
      "2025-04-15 15:38:01.440868: I external/local_xla/xla/stream_executor/cuda/subprocess_compilation.cc:346] ptxas warning : Registers are spilled to local memory in function 'input_reduce_select_transpose_fusion', 276 bytes spill stores, 264 bytes spill loads\n",
      "\n"
     ]
    },
    {
     "name": "stdout",
     "output_type": "stream",
     "text": [
      "\u001b[1m 1148/11950\u001b[0m \u001b[32m━\u001b[0m\u001b[37m━━━━━━━━━━━━━━━━━━━\u001b[0m \u001b[1m2:00\u001b[0m 11ms/step - accuracy: 0.9857 - loss: 0.0699"
     ]
    },
    {
     "name": "stderr",
     "output_type": "stream",
     "text": [
      "2025-04-15 15:38:04.495810: I external/local_xla/xla/stream_executor/cuda/subprocess_compilation.cc:346] ptxas warning : Registers are spilled to local memory in function 'input_reduce_select_transpose_fusion', 236 bytes spill stores, 212 bytes spill loads\n",
      "\n"
     ]
    },
    {
     "name": "stdout",
     "output_type": "stream",
     "text": [
      "\u001b[1m11950/11950\u001b[0m \u001b[32m━━━━━━━━━━━━━━━━━━━━\u001b[0m\u001b[37m\u001b[0m \u001b[1m100s\u001b[0m 8ms/step - accuracy: 0.9922 - loss: 0.0409\n",
      "Epoch 2/5\n",
      "\u001b[1m23894/23894\u001b[0m \u001b[32m━━━━━━━━━━━━━━━━━━━━\u001b[0m\u001b[37m\u001b[0m \u001b[1m190s\u001b[0m 8ms/step - accuracy: 0.9921 - loss: 0.0384\n",
      "Epoch 2/5\n",
      "\u001b[1m11950/11950\u001b[0m \u001b[32m━━━━━━━━━━━━━━━━━━━━\u001b[0m\u001b[37m\u001b[0m \u001b[1m90s\u001b[0m 8ms/step - accuracy: 0.9938 - loss: 0.0316\n",
      "Epoch 3/5\n",
      "\u001b[1m35842/35842\u001b[0m \u001b[32m━━━━━━━━━━━━━━━━━━━━\u001b[0m\u001b[37m\u001b[0m \u001b[1m274s\u001b[0m 8ms/step - accuracy: 0.9918 - loss: 0.0390\n",
      "Epoch 2/5\n",
      "\u001b[1m11950/11950\u001b[0m \u001b[32m━━━━━━━━━━━━━━━━━━━━\u001b[0m\u001b[37m\u001b[0m \u001b[1m88s\u001b[0m 7ms/step - accuracy: 0.9929 - loss: 0.0344\n",
      "Epoch 4/5\n",
      "\u001b[1m23894/23894\u001b[0m \u001b[32m━━━━━━━━━━━━━━━━━━━━\u001b[0m\u001b[37m\u001b[0m \u001b[1m181s\u001b[0m 8ms/step - accuracy: 0.9934 - loss: 0.0316\n",
      "Epoch 3/5\n",
      "\u001b[1m11950/11950\u001b[0m \u001b[32m━━━━━━━━━━━━━━━━━━━━\u001b[0m\u001b[37m\u001b[0m \u001b[1m94s\u001b[0m 8ms/step - accuracy: 0.9944 - loss: 0.0279\n",
      "Epoch 5/5\n",
      "\u001b[1m11950/11950\u001b[0m \u001b[32m━━━━━━━━━━━━━━━━━━━━\u001b[0m\u001b[37m\u001b[0m \u001b[1m92s\u001b[0m 8ms/step - accuracy: 0.9925 - loss: 0.0356\n",
      "\u001b[1m24321/35842\u001b[0m \u001b[32m━━━━━━━━━━━━━\u001b[0m\u001b[37m━━━━━━━\u001b[0m \u001b[1m1:29\u001b[0m 8ms/step - accuracy: 0.9926 - loss: 0.0344client_0Come end!\n",
      "\u001b[1m35842/35842\u001b[0m \u001b[32m━━━━━━━━━━━━━━━━━━━━\u001b[0m\u001b[37m\u001b[0m \u001b[1m252s\u001b[0m 7ms/step - accuracy: 0.9927 - loss: 0.0340\n",
      "Epoch 3/5\n",
      "\u001b[1m23894/23894\u001b[0m \u001b[32m━━━━━━━━━━━━━━━━━━━━\u001b[0m\u001b[37m\u001b[0m \u001b[1m155s\u001b[0m 7ms/step - accuracy: 0.9943 - loss: 0.0273\n",
      "Epoch 4/5\n",
      "\u001b[1m23894/23894\u001b[0m \u001b[32m━━━━━━━━━━━━━━━━━━━━\u001b[0m\u001b[37m\u001b[0m \u001b[1m127s\u001b[0m 5ms/step - accuracy: 0.9957 - loss: 0.0213\n",
      "Epoch 5/5\n",
      "\u001b[1m35842/35842\u001b[0m \u001b[32m━━━━━━━━━━━━━━━━━━━━\u001b[0m\u001b[37m\u001b[0m \u001b[1m190s\u001b[0m 5ms/step - accuracy: 0.9937 - loss: 0.0284\n",
      "Epoch 4/5\n",
      "\u001b[1m23894/23894\u001b[0m \u001b[32m━━━━━━━━━━━━━━━━━━━━\u001b[0m\u001b[37m\u001b[0m \u001b[1m126s\u001b[0m 5ms/step - accuracy: 0.9947 - loss: 0.0248\n",
      "\u001b[1m12312/35842\u001b[0m \u001b[32m━━━━━━\u001b[0m\u001b[37m━━━━━━━━━━━━━━\u001b[0m \u001b[1m2:03\u001b[0m 5ms/step - accuracy: 0.9937 - loss: 0.0284client_1Come end!\n",
      "\u001b[1m35842/35842\u001b[0m \u001b[32m━━━━━━━━━━━━━━━━━━━━\u001b[0m\u001b[37m\u001b[0m \u001b[1m196s\u001b[0m 5ms/step - accuracy: 0.9943 - loss: 0.0255\n",
      "Epoch 5/5\n",
      "\u001b[1m35842/35842\u001b[0m \u001b[32m━━━━━━━━━━━━━━━━━━━━\u001b[0m\u001b[37m\u001b[0m \u001b[1m221s\u001b[0m 6ms/step - accuracy: 0.9955 - loss: 0.0206\n",
      "client_2Come end!\n"
     ]
    },
    {
     "name": "stderr",
     "output_type": "stream",
     "text": [
      "/home/th/miniconda3/envs/tf/lib/python3.9/site-packages/keras/src/losses/losses.py:33: SyntaxWarning: In loss categorical_crossentropy, expected y_pred.shape to be (batch_size, num_classes) with num_classes > 1. Received: y_pred.shape=(None, 1). Consider using 'binary_crossentropy' if you only have 2 classes.\n",
      "  return self.fn(y_true, y_pred, **self._fn_kwargs)\n"
     ]
    },
    {
     "name": "stdout",
     "output_type": "stream",
     "text": [
      "\u001b[1m200/200\u001b[0m \u001b[32m━━━━━━━━━━━━━━━━━━━━\u001b[0m\u001b[37m\u001b[0m \u001b[1m7s\u001b[0m 25ms/step - accuracy: 0.9935 - loss: 0.0000e+00\n",
      "\u001b[1m219/600\u001b[0m \u001b[32m━━━━━━━\u001b[0m\u001b[37m━━━━━━━━━━━━━\u001b[0m \u001b[1m9s\u001b[0m 24ms/step - accuracy: 0.9939 - loss: 0.0000e+00"
     ]
    },
    {
     "name": "stderr",
     "output_type": "stream",
     "text": [
      "/home/th/miniconda3/envs/tf/lib/python3.9/site-packages/keras/src/losses/losses.py:33: SyntaxWarning: In loss categorical_crossentropy, expected y_pred.shape to be (batch_size, num_classes) with num_classes > 1. Received: y_pred.shape=(None, 1). Consider using 'binary_crossentropy' if you only have 2 classes.\n",
      "  return self.fn(y_true, y_pred, **self._fn_kwargs)\n"
     ]
    },
    {
     "name": "stdout",
     "output_type": "stream",
     "text": [
      "\u001b[1m400/400\u001b[0m \u001b[32m━━━━━━━━━━━━━━━━━━━━\u001b[0m\u001b[37m\u001b[0m \u001b[1m12s\u001b[0m 25ms/step - accuracy: 0.9954 - loss: 0.0000e+00\n",
      "\u001b[1m465/600\u001b[0m \u001b[32m━━━━━━━━━━━━━━━\u001b[0m\u001b[37m━━━━━\u001b[0m \u001b[1m3s\u001b[0m 23ms/step - accuracy: 0.9937 - loss: 0.0000e+00"
     ]
    },
    {
     "name": "stderr",
     "output_type": "stream",
     "text": [
      "/home/th/miniconda3/envs/tf/lib/python3.9/site-packages/keras/src/losses/losses.py:33: SyntaxWarning: In loss categorical_crossentropy, expected y_pred.shape to be (batch_size, num_classes) with num_classes > 1. Received: y_pred.shape=(None, 1). Consider using 'binary_crossentropy' if you only have 2 classes.\n",
      "  return self.fn(y_true, y_pred, **self._fn_kwargs)\n"
     ]
    },
    {
     "name": "stdout",
     "output_type": "stream",
     "text": [
      "\u001b[1m200/200\u001b[0m \u001b[32m━━━━━━━━━━━━━━━━━━━━\u001b[0m\u001b[37m\u001b[0m \u001b[1m8s\u001b[0m 34ms/step - accuracy: 0.9910 - loss: 0.0000e+00\n",
      "Arguments:  Performance Metrics for client_0 on iteration 5 \n",
      "------------------------------------------- \n",
      "local accuracy: 0.9934350848197937 \n",
      "global accuracy: 0.9906464219093323 \n",
      "local compute time: 0:07:45.395626 \n",
      "Simulated time to receive global weights: 0:18:55.457838 \n",
      " \n",
      "\n",
      "\u001b[1m600/600\u001b[0m \u001b[32m━━━━━━━━━━━━━━━━━━━━\u001b[0m\u001b[37m\u001b[0m \u001b[1m16s\u001b[0m 22ms/step - accuracy: 0.9936 - loss: 0.0000e+00\n",
      "\u001b[1m 58/400\u001b[0m \u001b[32m━━\u001b[0m\u001b[37m━━━━━━━━━━━━━━━━━━\u001b[0m \u001b[1m9s\u001b[0m 28ms/step - accuracy: 0.9934 - loss: 0.0000e+00 "
     ]
    },
    {
     "name": "stderr",
     "output_type": "stream",
     "text": [
      "/home/th/miniconda3/envs/tf/lib/python3.9/site-packages/keras/src/losses/losses.py:33: SyntaxWarning: In loss categorical_crossentropy, expected y_pred.shape to be (batch_size, num_classes) with num_classes > 1. Received: y_pred.shape=(None, 1). Consider using 'binary_crossentropy' if you only have 2 classes.\n",
      "  return self.fn(y_true, y_pred, **self._fn_kwargs)\n"
     ]
    },
    {
     "name": "stdout",
     "output_type": "stream",
     "text": [
      "\u001b[1m400/400\u001b[0m \u001b[32m━━━━━━━━━━━━━━━━━━━━\u001b[0m\u001b[37m\u001b[0m \u001b[1m11s\u001b[0m 24ms/step - accuracy: 0.9943 - loss: 0.0000e+00\n",
      "\u001b[1m257/600\u001b[0m \u001b[32m━━━━━━━━\u001b[0m\u001b[37m━━━━━━━━━━━━\u001b[0m \u001b[1m10s\u001b[0m 31ms/step - accuracy: 0.9900 - loss: 0.0000e+00Arguments:  Performance Metrics for client_1 on iteration 5 \n",
      "------------------------------------------- \n",
      "local accuracy: 0.9954740405082703 \n",
      "global accuracy: 0.9944355487823486 \n",
      "local compute time: 0:13:01.448095 \n",
      "Simulated time to receive global weights: 0:18:55.457838 \n",
      " \n",
      "\n",
      "\u001b[1m600/600\u001b[0m \u001b[32m━━━━━━━━━━━━━━━━━━━━\u001b[0m\u001b[37m\u001b[0m \u001b[1m13s\u001b[0m 20ms/step - accuracy: 0.9896 - loss: 0.0000e+00\n",
      "Arguments:  Performance Metrics for client_2 on iteration 5 \n",
      "------------------------------------------- \n",
      "local accuracy: 0.9935709834098816 \n",
      "global accuracy: 0.9893463253974915 \n",
      "local compute time: 0:18:54.605720 \n",
      "Simulated time to receive global weights: 0:18:55.457838 \n",
      " \n",
      "\n",
      "[client_0] :Simulated time for client set() to finish iteration 5: 0:37:51.385699\n",
      "\n",
      "[client_1] :Simulated time for client set() to finish iteration 5: 0:37:51.385699\n",
      "\n",
      "[client_2] :Simulated time for client set() to finish iteration 5: 0:37:51.385699\n",
      "\n",
      "====================================== Kết thúc Iteration 5 ======================================\n",
      "{}\n",
      "Client's Accuracies are {'client_0': [0.9973663091659546, 0.9888744950294495, 0.9883806705474854, 0.989658772945404, 0.9906464219093323], 'client_1': [0.9940056204795837, 0.9909287691116333, 0.9925082325935364, 0.993710994720459, 0.9944355487823486], 'client_2': [0.995694637298584, 0.9972405433654785, 0.999102771282196, 0.9925995469093323, 0.9893463253974915]}\n"
     ]
    }
   ],
   "source": [
    "if __name__ == '__main__':\n",
    "    server.InitLoop()\n",
    "    server.final_statistics()"
   ]
  },
  {
   "cell_type": "code",
   "execution_count": 6,
   "metadata": {},
   "outputs": [
    {
     "ename": "NameError",
     "evalue": "name 'model' is not defined",
     "output_type": "error",
     "traceback": [
      "\u001b[0;31m---------------------------------------------------------------------------\u001b[0m",
      "\u001b[0;31mNameError\u001b[0m                                 Traceback (most recent call last)",
      "Cell \u001b[0;32mIn[6], line 34\u001b[0m\n\u001b[1;32m     20\u001b[0m \u001b[38;5;28;01mfor\u001b[39;00m X_batch, y_batch \u001b[38;5;129;01min\u001b[39;00m test_gens[i]\u001b[38;5;241m.\u001b[39mtake(num_batch_test_eachClient[i]):\n\u001b[1;32m     21\u001b[0m \u001b[38;5;66;03m# .as_numpy_iterator():\u001b[39;00m\n\u001b[1;32m     22\u001b[0m     \u001b[38;5;66;03m# # take(12000):\u001b[39;00m\n\u001b[0;32m   (...)\u001b[0m\n\u001b[1;32m     30\u001b[0m     \u001b[38;5;66;03m# # Nếu y_test đang ở dạng one-hot, chuyển về dạng số\u001b[39;00m\n\u001b[1;32m     31\u001b[0m     \u001b[38;5;66;03m# y_test = np.argmax(y_test, axis=1)\u001b[39;00m\n\u001b[1;32m     33\u001b[0m     y_true_all\u001b[38;5;241m.\u001b[39mextend(y_batch\u001b[38;5;241m.\u001b[39mnumpy()\u001b[38;5;241m.\u001b[39mflatten())\n\u001b[0;32m---> 34\u001b[0m     y_pred_prob \u001b[38;5;241m=\u001b[39m \u001b[43mmodel\u001b[49m\u001b[38;5;241m.\u001b[39mpredict(X_batch, verbose\u001b[38;5;241m=\u001b[39m\u001b[38;5;241m0\u001b[39m)\n\u001b[1;32m     35\u001b[0m     y_pred \u001b[38;5;241m=\u001b[39m (y_pred_prob \u001b[38;5;241m>\u001b[39m \u001b[38;5;241m0.5\u001b[39m)\u001b[38;5;241m.\u001b[39mastype(\u001b[38;5;28mint\u001b[39m)\u001b[38;5;241m.\u001b[39mflatten()\n\u001b[1;32m     36\u001b[0m     y_pred_all\u001b[38;5;241m.\u001b[39mextend(y_pred)\n",
      "\u001b[0;31mNameError\u001b[0m: name 'model' is not defined"
     ]
    }
   ],
   "source": [
    "from sklearn.metrics import precision_score, recall_score, f1_score\n",
    "from tensorflow.keras.models import load_model\n",
    "\n",
    "import numpy as np\n",
    "\n",
    "num_batch_test_eachClient  =  []\n",
    "for index, test_df in enumerate(test_dfs):\n",
    "    num_samples_test = test_df.shape[0].compute()\n",
    "    # Tính số batch\n",
    "    num_batches_test = int(np.ceil(num_samples_test / batch_size))\n",
    "    num_batch_test_eachClient.append(num_batches_test)\n",
    "    \n",
    "X_tests = {}\n",
    "Y_tests = {}\n",
    "\n",
    "for i, client_name in enumerate(active_clients_list):\n",
    "    X_true_all = []\n",
    "    y_pred_all = []\n",
    "    y_true_all = []\n",
    "    for X_batch, y_batch in test_gens[i].take(num_batch_test_eachClient[i]):\n",
    "    # .as_numpy_iterator():\n",
    "        # # take(12000):\n",
    "        # X_test_list.append(X_batch.numpy())\n",
    "        # y_test_list.append(y_batch.numpy())  # .numpy()\n",
    "\n",
    "        # # Gộp tất cả batch lại\n",
    "        # X_test = np.concatenate(X_test_list, axis=0)\n",
    "        # y_test = np.concatenate(y_test_list, axis=0)\n",
    "\n",
    "        # # Nếu y_test đang ở dạng one-hot, chuyển về dạng số\n",
    "        # y_test = np.argmax(y_test, axis=1)\n",
    "        \n",
    "        y_true_all.extend(y_batch.numpy().flatten())\n",
    "        y_pred_prob = model.predict(X_batch, verbose=0)\n",
    "        y_pred = (y_pred_prob > 0.5).astype(int).flatten()\n",
    "        y_pred_all.extend(y_pred)\n",
    "    \n",
    "    X_tests[client_name] = X_test\n",
    "    Y_tests[client_name] = y_test"
   ]
  },
  {
   "cell_type": "code",
   "execution_count": null,
   "metadata": {},
   "outputs": [],
   "source": [
    "# tempdirs = [\"D:/DoAnChuyenNganh_Train/client_0_log/11h18p__02-04-2025/\", \"D:/DoAnChuyenNganh_Train/client_1_log/11h18p__02-04-2025/\",  \"D:/DoAnChuyenNganh_Train/client_2_log/11h18p__02-04-2025/\"]\n",
    "timeFolder=\"16h53p__13-04-2025/\"\n",
    "tempdirs = [f\"DoAnChuyenNganh_Train/client_{i}_log/\" for i in range(3)]\n",
    "\n",
    "\n",
    "model_names =[f\"model_{i}.keras\" for i in range(5)]\n",
    "models = {}\n",
    "\n",
    "for i, client_name in enumerate(active_clients_list):\n",
    "    models[client_name] = [load_model(tempdirs[i]+model_name) for model_name in model_names]\n",
    "print (models)"
   ]
  },
  {
   "cell_type": "code",
   "execution_count": null,
   "metadata": {},
   "outputs": [],
   "source": [
    "# Client 0\n",
    "import matplotlib.pyplot as plt\n",
    "import numpy as np\n",
    "import tensorflow as tf\n",
    "import matplotlib.pyplot as plt\n",
    "import seaborn as sns\n",
    "from sklearn.metrics import confusion_matrix\n",
    "\n",
    "precisions = []\n",
    "recalls = []\n",
    "f1s = []\n",
    "\n",
    "Iterations = ['Iteration 1', 'Iteration 2', 'Iteration 3', 'Iteration 4']\n",
    "for index in range(len(Iterations)):\n",
    "    y_pred_prob = models['client_0'][index].predict(X_tests['client_0'])\n",
    "    # y_pred = y_pred_prob.argmax(axis=1)\n",
    "    \n",
    "    # Tính Precision, Recall, F1-score\n",
    "    precisions.append(precision_score(Y_tests['client_0'], y_pred, average='weighted'))\n",
    "    recalls.append(recall_score(Y_tests['client_0'], y_pred, average='weighted'))\n",
    "    f1s.append(f1_score(Y_tests['client_0'], y_pred, average='weighted'))\n",
    "    \n",
    "# Vẽ biểu đồ\n",
    "plt.figure(figsize=(8, 5))\n",
    "plt.plot(Iterations, precisions, marker='o', linestyle='-', label=\"Precision\", color='blue')\n",
    "plt.plot(Iterations, recalls, marker='s', linestyle='-', label=\"Recall\", color='red')\n",
    "plt.plot(Iterations, f1s, marker='^', linestyle='-', label=\"F1-score\", color='green')\n",
    "\n",
    "# Thêm tiêu đề và nhãn\n",
    "plt.xlabel(\"Model\")\n",
    "plt.ylabel(\"Score\")\n",
    "plt.title(\"Precision, Recall, F1-score over different iterations _ CLIENT 0\")\n",
    "plt.legend()\n",
    "plt.ylim(0, 1)  # Giới hạn từ 0 đến 1\n",
    "plt.grid(True)\n",
    "\n",
    "# Hiển thị đồ thị\n",
    "plt.show()\n",
    "\n",
    "\n",
    "\n",
    "cm = confusion_matrix(Y_tests['client_0'], y_pred)\n",
    "\n",
    "    # Vẽ heatmap\n",
    "plt.figure(figsize=(10, 7))\n",
    "sns.heatmap(cm, annot=True, fmt=\"d\", cmap=\"Blues\", xticklabels=range(cm.shape[0]), yticklabels=range(cm.shape[0]))\n",
    "\n",
    "# Thêm nhãn\n",
    "plt.xlabel(\"Predicted Label\")\n",
    "plt.ylabel(\"True Label\")\n",
    "plt.title(\"Confusion Matrix CLIENT 0\")\n",
    "\n",
    "# Hiển thị\n",
    "plt.show()\n",
    "\n",
    "\n",
    "attack_types = ['BenignTraffic', 'DDoS-ICMP_Flood', 'DDoS-PSHACK_Flood', 'DDoS-RSTFINFlood', 'DDoS-SYN_Flood', \n",
    "                   'DDoS-SynonymousIP_Flood', 'DDoS-TCP_Flood', 'DDoS-UDP_Flood', 'DoS-SYN_Flood', 'DoS-TCP_Flood', 'DoS-UDP_Flood']\n",
    "metrics = []\n",
    "\n",
    "# Số lượng lớp (10 lớp)\n",
    "num_classes = len(attack_types)\n",
    "\n",
    "# Duyệt từng lớp để tính TP, FP, TN, FN\n",
    "for i in range(num_classes):\n",
    "    TP = cm[i, i]\n",
    "    FP = cm[:, i].sum() - TP\n",
    "    FN = cm[i, :].sum() - TP\n",
    "    TN = cm.sum() - (TP + FP + FN)\n",
    "    \n",
    "    metrics.append([attack_types[i], TP, FP, TN, FN])\n",
    "\n",
    "# Chuyển thành DataFrame\n",
    "df_metrics = pd.DataFrame(metrics, columns=[\"Attack_Types\", \"TP\", \"FP\", \"TN\", \"FN\"])\n",
    "\n",
    "# Vẽ biểu đồ\n",
    "df_metrics.set_index(\"Attack_Types\").plot(kind=\"bar\", figsize=(18, 8), colormap=\"viridis\")\n",
    "\n",
    "# Thêm nhãn\n",
    "plt.xlabel(\"Class\")\n",
    "plt.ylabel(\"Count\")\n",
    "plt.title(\"TP, FP, TN, FN for Each Class CLIENT 0\")\n",
    "plt.xticks(rotation=45)\n",
    "plt.legend([\"TP\", \"FP\", \"TN\", \"FN\"])\n",
    "\n",
    "# Hiển thị\n",
    "plt.show()"
   ]
  },
  {
   "cell_type": "code",
   "execution_count": null,
   "metadata": {},
   "outputs": [],
   "source": [
    "# Client 1\n",
    "import matplotlib.pyplot as plt\n",
    "\n",
    "precisions = []\n",
    "recalls = []\n",
    "f1s = []\n",
    "y_pred = []\n",
    "Iterations = ['Iteration 1', 'Iteration 2', 'Iteration 3', 'Iteration 4']\n",
    "for index in range(len(Iterations)):\n",
    "    y_pred_prob = models['client_1'][index].predict(X_tests['client_1'])\n",
    "\n",
    "    y_pred = y_pred_prob.argmax(axis=1)\n",
    "    # Tính Precision, Recall, F1-score\n",
    "    precisions.append(precision_score(Y_tests['client_1'], y_pred, average='weighted'))\n",
    "    recalls.append(recall_score(Y_tests['client_1'], y_pred, average='weighted'))\n",
    "    f1s.append(f1_score(Y_tests['client_1'], y_pred, average='weighted'))\n",
    "    \n",
    "print(\"Precision Score: \", precisions)\n",
    "print(\"Recall Score: \", recalls)\n",
    "print(\"F1 Score: \", f1s)  \n",
    "\n",
    "# Vẽ biểu đồ\n",
    "plt.figure(figsize=(8, 5))\n",
    "plt.plot(Iterations, precisions, marker='o', linestyle='-', label=\"Precision\", color='blue')\n",
    "plt.plot(Iterations, recalls, marker='s', linestyle='-', label=\"Recall\", color='red')\n",
    "plt.plot(Iterations, f1s, marker='^', linestyle='-', label=\"F1-score\", color='green')\n",
    "\n",
    "# Thêm tiêu đề và nhãn\n",
    "plt.xlabel(\"Model\")\n",
    "plt.ylabel(\"Score\")\n",
    "plt.title(\"Precision, Recall, F1-score over different iterations _ CLIENT 1\")\n",
    "plt.legend()\n",
    "plt.ylim(0, 1)  # Giới hạn từ 0 đến 1\n",
    "plt.grid(True)\n",
    "\n",
    "# Hiển thị đồ thị\n",
    "plt.show()\n",
    "\n",
    "\n",
    "cm = confusion_matrix(Y_tests['client_1'], y_pred)\n",
    "\n",
    "# Vẽ heatmap\n",
    "plt.figure(figsize=(10, 7))\n",
    "sns.heatmap(cm, annot=True, fmt=\"d\", cmap=\"Blues\", xticklabels=range(cm.shape[0]), yticklabels=range(cm.shape[0]))\n",
    "\n",
    "# Thêm nhãn\n",
    "plt.xlabel(\"Predicted Label\")\n",
    "plt.ylabel(\"True Label\")\n",
    "plt.title(\"Confusion Matrix CLIENT 1\")\n",
    "\n",
    "# Hiển thị\n",
    "plt.show()\n",
    "\n",
    "\n",
    "attack_types =['BenignTraffic', 'DDoS-ICMP_Flood', 'DDoS-PSHACK_Flood', 'DDoS-RSTFINFlood', 'DDoS-SYN_Flood', \n",
    "                   'DDoS-SynonymousIP_Flood', 'DDoS-TCP_Flood', 'DDoS-UDP_Flood', 'DoS-SYN_Flood', 'DoS-TCP_Flood', 'DoS-UDP_Flood']\n",
    "metrics = []\n",
    "\n",
    "# Số lượng lớp (10 lớp)\n",
    "num_classes = len(attack_types)\n",
    "\n",
    "# Duyệt từng lớp để tính TP, FP, TN, FN\n",
    "for i in range(num_classes):\n",
    "    TP = cm[i, i]\n",
    "    FP = cm[:, i].sum() - TP\n",
    "    FN = cm[i, :].sum() - TP\n",
    "    TN = cm.sum() - (TP + FP + FN)\n",
    "    \n",
    "    metrics.append([attack_types[i], TP, FP, TN, FN])\n",
    "\n",
    "# Chuyển thành DataFrame\n",
    "df_metrics = pd.DataFrame(metrics, columns=[\"Attack_Types\", \"TP\", \"FP\", \"TN\", \"FN\"])\n",
    "\n",
    "# Vẽ biểu đồ\n",
    "df_metrics.set_index(\"Attack_Types\").plot(kind=\"bar\", figsize=(18, 8), colormap=\"viridis\")\n",
    "\n",
    "# Thêm nhãn\n",
    "plt.xlabel(\"Class\")\n",
    "plt.ylabel(\"Count\")\n",
    "plt.title(\"TP, FP, TN, FN for Each Class CLIENT 1\")\n",
    "plt.xticks(rotation=45)\n",
    "plt.legend([\"TP\", \"FP\", \"TN\", \"FN\"])\n",
    "\n",
    "# Hiển thị\n",
    "plt.show()"
   ]
  },
  {
   "cell_type": "code",
   "execution_count": null,
   "metadata": {},
   "outputs": [],
   "source": [
    "# Client 2\n",
    "import matplotlib.pyplot as plt\n",
    "\n",
    "precisions = []\n",
    "recalls = []\n",
    "f1s = []\n",
    "y_pred = []\n",
    "Iterations = ['Iteration 1', 'Iteration 2', 'Iteration 3', 'Iteration 4']\n",
    "for index in range(len(Iterations)):\n",
    "    y_pred_prob = models['client_2'][index].predict(X_tests['client_2'])\n",
    "\n",
    "    y_pred = y_pred_prob.argmax(axis=1)\n",
    "\n",
    "    # Tính Precision, Recall, F1-score\n",
    "    precisions.append(precision_score(Y_tests['client_2'], y_pred, average='weighted'))\n",
    "    recalls.append(recall_score(Y_tests['client_2'], y_pred, average='weighted'))\n",
    "    f1s.append(f1_score(Y_tests['client_2'], y_pred, average='weighted'))\n",
    "    \n",
    "print(\"Precision Score: \", precisions)\n",
    "print(\"Recall Score: \", recalls)\n",
    "print(\"F1 Score: \", f1s)  \n",
    "\n",
    "# Vẽ biểu đồ\n",
    "plt.figure(figsize=(8, 5))\n",
    "plt.plot(Iterations, precisions, marker='o', linestyle='-', label=\"Precision\", color='blue')\n",
    "plt.plot(Iterations, recalls, marker='s', linestyle='-', label=\"Recall\", color='red')\n",
    "plt.plot(Iterations, f1s, marker='^', linestyle='-', label=\"F1-score\", color='green')\n",
    "\n",
    "# Thêm tiêu đề và nhãn\n",
    "plt.xlabel(\"Model\")\n",
    "plt.ylabel(\"Score\")\n",
    "plt.title(\"Precision, Recall, F1-score over different iterations _ CLIENT 2\")\n",
    "plt.legend()\n",
    "plt.ylim(0, 1)  # Giới hạn từ 0 đến 1\n",
    "plt.grid(True)\n",
    "\n",
    "# Hiển thị đồ thị\n",
    "plt.show()\n",
    "\n",
    "\n",
    "cm = confusion_matrix(Y_tests['client_2'], y_pred)\n",
    "# Vẽ heatmap\n",
    "plt.figure(figsize=(10, 7))\n",
    "sns.heatmap(cm, annot=True, fmt=\"d\", cmap=\"Blues\", xticklabels=range(cm.shape[0]), yticklabels=range(cm.shape[0]))\n",
    "\n",
    "# Thêm nhãn\n",
    "plt.xlabel(\"Predicted Label\")\n",
    "plt.ylabel(\"True Label\")\n",
    "plt.title(\"Confusion Matrix CLIENT 2\")\n",
    "\n",
    "# Hiển thị\n",
    "plt.show()\n",
    "\n",
    "\n",
    "#\n",
    "attack_types =['BenignTraffic', 'DDoS-ICMP_Flood', 'DDoS-PSHACK_Flood', 'DDoS-RSTFINFlood', 'DDoS-SYN_Flood', \n",
    "                   'DDoS-SynonymousIP_Flood', 'DDoS-TCP_Flood', 'DDoS-UDP_Flood', 'DoS-SYN_Flood', 'DoS-TCP_Flood', 'DoS-UDP_Flood']\n",
    "metrics = []\n",
    "num_classes = len(attack_types)\n",
    "\n",
    "# Duyệt từng lớp để tính TP, FP, TN, FN\n",
    "for i in range(num_classes):\n",
    "    TP = cm[i, i]\n",
    "    FP = cm[:, i].sum() - TP\n",
    "    FN = cm[i, :].sum() - TP\n",
    "    TN = cm.sum() - (TP + FP + FN)\n",
    "    \n",
    "    metrics.append([attack_types[i], TP, FP, TN, FN])\n",
    "\n",
    "# Chuyển thành DataFrame\n",
    "df_metrics = pd.DataFrame(metrics, columns=[\"Attack_Types\", \"TP\", \"FP\", \"TN\", \"FN\"])\n",
    "\n",
    "# Vẽ biểu đồ\n",
    "df_metrics.set_index(\"Attack_Types\").plot(kind=\"bar\", figsize=(18, 8), colormap=\"viridis\")\n",
    "\n",
    "# Thêm nhãn\n",
    "plt.xlabel(\"Class\")\n",
    "plt.ylabel(\"Count\")\n",
    "plt.title(\"TP, FP, TN, FN for Each Class CLIENT 2\")\n",
    "plt.xticks(rotation=45)\n",
    "plt.legend([\"TP\", \"FP\", \"TN\", \"FN\"])\n",
    "\n",
    "# Hiển thị\n",
    "plt.show()"
   ]
  },
  {
   "cell_type": "code",
   "execution_count": null,
   "metadata": {},
   "outputs": [],
   "source": [
    "# Client_0 \n",
    "import matplotlib.pyplot as plt\n",
    "import numpy as np\n",
    "\n",
    "file_dir= \"client_0_log/11h18p__02-04-2025/\"\n",
    "file_names = [\"Iteration_1.csv\" ,\"Iteration_2.csv\", \"Iteration_3.csv\"]\n",
    "\n",
    "import pandas as pd\n",
    "import matplotlib.pyplot as plt\n",
    "\n",
    "accuracy= []\n",
    "loss = []\n",
    "epochs = [\"Epoch_\"+str(i) for i in range(5)]\n",
    "for i, file_name in enumerate(file_names):\n",
    "    # Đọc file CSV\n",
    "    df = pd.read_csv(file_dir + file_name)  # Đổi tên file nếu cần\n",
    "\n",
    "    # Chuyển \"NA\" thành NaN và xử lý nếu cần\n",
    "    df.replace(\"NA\", None, inplace=True)\n",
    "\n",
    "      # Đảm bảo epoch là số nguyên\n",
    "    df[\"accuracy\"] = df[\"accuracy\"].astype(float)\n",
    "    df[\"loss\"] = df[\"loss\"].astype(float)\n",
    "    accuracy.append(df[\"accuracy\"])\n",
    "    loss.append(df[\"loss\"])\n",
    "    print(\"Iteration \"+str(i)+\": \")\n",
    "    for epoch_index,  epoch in enumerate(epochs):\n",
    "        print(epoch + f\": Accuracy: {df['accuracy'][epoch_index]} \\t Loss: {df['loss'][epoch_index]}\")\n",
    "\n",
    "plt.figure(figsize=(12, 6))\n",
    "\n",
    "# Vẽ Accuracy\n",
    "plt.subplot(1,2,1)\n",
    "for i in range(3):\n",
    "    plt.plot(epochs, accuracy[i], marker=\"o\", linestyle=\"-\", label=f\"Iteration {i+1}\")\n",
    "    \n",
    "plt.title(\"Accuracy over Epochs Client 1\")\n",
    "plt.xlabel(\"Epochs\")\n",
    "plt.ylabel(\"Accuracy\")\n",
    "plt.ylim(0, 1)\n",
    "plt.legend()\n",
    "plt.grid(True)\n",
    "\n",
    "# Vẽ Loss\n",
    "plt.subplot(1, 2, 2)\n",
    "for i in range(3):\n",
    "    plt.plot(epochs, loss[i], marker=\"s\", linestyle=\"-\", label=f\"Iteration {i+1}\")\n",
    "\n",
    "plt.title(\"Loss over Epochs\")\n",
    "plt.xlabel(\"Epochs\")\n",
    "plt.ylabel(\"Loss\")\n",
    "plt.ylim(0, 1)\n",
    "plt.legend()\n",
    "plt.grid(True)\n",
    "\n",
    "# Hiển thị biểu đồ\n",
    "plt.tight_layout()\n",
    "plt.show()"
   ]
  },
  {
   "cell_type": "code",
   "execution_count": null,
   "metadata": {},
   "outputs": [],
   "source": [
    "# Client_1\n",
    "import matplotlib.pyplot as plt\n",
    "import numpy as np\n",
    "\n",
    "file_dir= \"client_1_log/11h18p__02-04-2025/\"\n",
    "file_names = [\"Iteration_1.csv\" ,\"Iteration_2.csv\", \"Iteration_3.csv\"]\n",
    "\n",
    "import pandas as pd\n",
    "import matplotlib.pyplot as plt\n",
    "\n",
    "accuracy= []\n",
    "loss = []\n",
    "epochs = [\"Epoch_\"+str(i) for i in range(5)]\n",
    "for i, file_name in enumerate(file_names):\n",
    "    # Đọc file CSV\n",
    "    df = pd.read_csv(file_dir + file_name)  # Đổi tên file nếu cần\n",
    "\n",
    "    # Chuyển \"NA\" thành NaN và xử lý nếu cần\n",
    "    df.replace(\"NA\", None, inplace=True)\n",
    "\n",
    "      # Đảm bảo epoch là số nguyên\n",
    "    df[\"accuracy\"] = df[\"accuracy\"].astype(float)\n",
    "    df[\"loss\"] = df[\"loss\"].astype(float)\n",
    "    accuracy.append(df[\"accuracy\"])\n",
    "    loss.append(df[\"loss\"])\n",
    "    print(\"Iteration \"+str(i)+\": \")\n",
    "    for epoch_index,  epoch in enumerate(epochs):\n",
    "        print(epoch + f\": Accuracy: {df['accuracy'][epoch_index]} \\t Loss: {df['loss'][epoch_index]}\")\n",
    "\n",
    "plt.figure(figsize=(12, 6))\n",
    "\n",
    "# Vẽ Accuracy\n",
    "plt.subplot(1,2,1)\n",
    "for i in range(3):\n",
    "    plt.plot(epochs, accuracy[i], marker=\"o\", linestyle=\"-\", label=f\"Iteration {i+1}\")\n",
    "    \n",
    "plt.title(\"Accuracy over Epochs Client 1\")\n",
    "plt.xlabel(\"Epochs\")\n",
    "plt.ylabel(\"Accuracy\")\n",
    "plt.ylim(0, 1)\n",
    "plt.legend()\n",
    "plt.grid(True)\n",
    "\n",
    "# Vẽ Loss\n",
    "plt.subplot(1, 2, 2)\n",
    "for i in range(3):\n",
    "    plt.plot(epochs, loss[i], marker=\"s\", linestyle=\"-\", label=f\"Iteration {i+1}\")\n",
    "\n",
    "plt.title(\"Loss over Epochs Client 1\")\n",
    "plt.xlabel(\"Epochs\")\n",
    "plt.ylabel(\"Loss\")\n",
    "plt.ylim(0, 1)\n",
    "plt.legend()\n",
    "plt.grid(True)\n",
    "\n",
    "# Hiển thị biểu đồ\n",
    "plt.tight_layout()\n",
    "plt.show()"
   ]
  },
  {
   "cell_type": "code",
   "execution_count": null,
   "metadata": {},
   "outputs": [],
   "source": [
    "# Client_2\n",
    "import matplotlib.pyplot as plt\n",
    "import numpy as np\n",
    "\n",
    "file_dir= \"client_2_log/11h18p__02-04-2025/\"\n",
    "file_names = [\"Iteration_1.csv\" ,\"Iteration_2.csv\", \"Iteration_3.csv\"]\n",
    "\n",
    "import pandas as pd\n",
    "import matplotlib.pyplot as plt\n",
    "\n",
    "accuracy= []\n",
    "loss = []\n",
    "epochs = [\"Epoch_\"+str(i) for i in range(5)]\n",
    "for i, file_name in enumerate(file_names):\n",
    "    # Đọc file CSV\n",
    "    df = pd.read_csv(file_dir + file_name)  # Đổi tên file nếu cần\n",
    "\n",
    "    # Chuyển \"NA\" thành NaN và xử lý nếu cần\n",
    "    df.replace(\"NA\", None, inplace=True)\n",
    "\n",
    "      # Đảm bảo epoch là số nguyên\n",
    "    df[\"accuracy\"] = df[\"accuracy\"].astype(float)\n",
    "    df[\"loss\"] = df[\"loss\"].astype(float)\n",
    "    accuracy.append(df[\"accuracy\"])\n",
    "    loss.append(df[\"loss\"])\n",
    "    print(\"Iteration \"+str(i)+\": \")\n",
    "    for epoch_index,  epoch in enumerate(epochs):\n",
    "        print(epoch + f\": Accuracy: {df['accuracy'][epoch_index]} \\t Loss: {df['loss'][epoch_index]}\")\n",
    "\n",
    "plt.figure(figsize=(12, 6))\n",
    "\n",
    "# Vẽ Accuracy\n",
    "plt.subplot(1,2,1)\n",
    "for i in range(3):\n",
    "    plt.plot(epochs, accuracy[i], marker=\"o\", linestyle=\"-\", label=f\"Iteration {i+1}\")\n",
    "    \n",
    "plt.title(\"Accuracy over Epochs _Client 2\")\n",
    "plt.xlabel(\"Epochs\")\n",
    "plt.ylabel(\"Accuracy\")\n",
    "plt.ylim(0, 1)\n",
    "plt.legend()\n",
    "plt.grid(True)\n",
    "\n",
    "# Vẽ Loss\n",
    "plt.subplot(1, 2, 2)\n",
    "for i in range(3):\n",
    "    plt.plot(epochs, loss[i], marker=\"s\", linestyle=\"-\", label=f\"Iteration {i+1}\")\n",
    "\n",
    "plt.title(\"Loss over Epochs Client 2\")\n",
    "plt.xlabel(\"Epochs\")\n",
    "plt.ylabel(\"Loss\")\n",
    "plt.ylim(0, 1)\n",
    "plt.legend()\n",
    "plt.grid(True)\n",
    "\n",
    "# Hiển thị biểu đồ\n",
    "plt.tight_layout()\n",
    "plt.show()"
   ]
  }
 ],
 "metadata": {
  "kernelspec": {
   "display_name": "Python 3 (ipykernel)",
   "language": "python",
   "name": "python3"
  },
  "language_info": {
   "codemirror_mode": {
    "name": "ipython",
    "version": 3
   },
   "file_extension": ".py",
   "mimetype": "text/x-python",
   "name": "python",
   "nbconvert_exporter": "python",
   "pygments_lexer": "ipython3",
   "version": "3.9.21"
  }
 },
 "nbformat": 4,
 "nbformat_minor": 4
}
