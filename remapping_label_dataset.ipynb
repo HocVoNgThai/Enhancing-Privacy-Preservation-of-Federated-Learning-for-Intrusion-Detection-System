{
 "cells": [
  {
   "cell_type": "code",
   "execution_count": null,
   "id": "8f1016c2-e68c-4c3c-8004-39de281d72b1",
   "metadata": {},
   "outputs": [
    {
     "name": "stdout",
     "output_type": "stream",
     "text": [
      "[####################################    ] | 91% Completed | 128.48 s"
     ]
    }
   ],
   "source": [
    "import dask.dataframe as dd\n",
    "from dask.diagnostics import ProgressBar\n",
    "input_file = \"balanced_dataset_multiclass.csv\" \n",
    "output_file = \"remapping_dataset_multiclass.csv\"\n",
    "# Đọc bằng Dask cho file lớn\n",
    "ddf = dd.read_csv(input_file)\n",
    "\n",
    "# Remap labels\n",
    "ddf['label'] = ddf['label'].map({0:0, 4:1, 5:2, 6:3}, meta=('label', 'int64'))\n",
    "\n",
    "# Shuffle (Dask không hỗ trợ shuffle trực tiếp, cần workaround)\n",
    "ddf = ddf.sample(frac=1, random_state=42)\n",
    "\n",
    "# Lưu kết quả\n",
    "with ProgressBar():\n",
    "    ddf.to_csv(output_file, single_file=True, index=False) "
   ]
  },
  {
   "cell_type": "code",
   "execution_count": null,
   "id": "f6fb65d6-539c-422e-9c49-25f8de37f627",
   "metadata": {},
   "outputs": [],
   "source": [
    "\"\"\"\n",
    "Kiểm tra dataset sau khi xử lý\n",
    "\"\"\"\n",
    "df = dd.read_csv(output_file)\n",
    "    \n",
    "# Tính tổng số mẫu\n",
    "total_samples = df.shape[0].compute()\n",
    "print(f\"Tổng số mẫu: {total_samples}\")\n",
    "    \n",
    "# Tính phân bố label\n",
    "label_counts = df['label'].value_counts().compute()\n",
    "print(\"Phân bố label:\")\n",
    "print(label_counts.sort_index())\n",
    "    \n",
    "# Kiểm tra số lượng label liên tiếp (chỉ kiểm tra 1 triệu mẫu đầu để tiết kiệm tài nguyên)\n",
    "df_small = df.head(1000000)\n",
    "consecutive_counts = (df_small['label'].diff() == 0).sum()\n",
    "print(f\"Số lượng label liên tiếp trong 1 triệu mẫu đầu: {consecutive_counts}\")"
   ]
  },
  {
   "cell_type": "code",
   "execution_count": null,
   "id": "586e21e2-0c69-48b0-ae0d-632859d5e262",
   "metadata": {},
   "outputs": [],
   "source": []
  }
 ],
 "metadata": {
  "kernelspec": {
   "display_name": "Python 3 (ipykernel)",
   "language": "python",
   "name": "python3"
  },
  "language_info": {
   "codemirror_mode": {
    "name": "ipython",
    "version": 3
   },
   "file_extension": ".py",
   "mimetype": "text/x-python",
   "name": "python",
   "nbconvert_exporter": "python",
   "pygments_lexer": "ipython3",
   "version": "3.9.21"
  }
 },
 "nbformat": 4,
 "nbformat_minor": 5
}
